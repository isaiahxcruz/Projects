{
 "cells": [
  {
   "cell_type": "code",
   "execution_count": 1,
   "metadata": {},
   "outputs": [],
   "source": [
    "import pandas as pd\n",
    "import matplotlib.pyplot as plt\n",
    "import tensorflow as tf\n",
    "from tensorflow import keras\n",
    "import numpy as np \n",
    "from sklearn.preprocessing import normalize\n",
    "from progressbar import ProgressBar\n",
    "\n",
    "train_data = np.load('train.npz')\n",
    "val_data = np.load('val.npz')\n",
    "test_data = np.load('test.npz')\n",
    "test = test_data['x']\n",
    "X = train_data['x'] #feature matrix\n",
    "y = train_data['y'] #label matrix\n",
    "val_X = val_data['x']\n",
    "val_y = val_data['y']\n",
    "location = train_data['locations'] #location matrix\n",
    "times = train_data['times'] #time matrix\n",
    "pbar = ProgressBar()"
   ]
  },
  {
   "cell_type": "code",
   "execution_count": 2,
   "metadata": {},
   "outputs": [
    {
     "name": "stdout",
     "output_type": "stream",
     "text": [
      "(72000, 8, 49)\n",
      "(72000, 1)\n",
      "(18000, 8, 49)\n",
      "(18000, 1)\n",
      "(72000,)\n",
      "(72000, 2)\n"
     ]
    }
   ],
   "source": [
    "print(X.shape)\n",
    "print(y.shape)\n",
    "print(val_X.shape)\n",
    "print(val_y.shape)\n",
    "print(times.shape)\n",
    "print(location.shape)"
   ]
  },
  {
   "cell_type": "markdown",
   "metadata": {},
   "source": [
    "# Question 1: Implement a simple baseline where the historical average for each region is predicted against the validation set "
   ]
  },
  {
   "cell_type": "code",
   "execution_count": 3,
   "metadata": {},
   "outputs": [],
   "source": [
    "from sklearn.metrics import mean_squared_error\n",
    "region_cnt_dict = {} \n",
    "region_sum_dict = {} \n",
    "region_mean_dict = {} \n",
    "\n",
    "for i, y_i in enumerate(train_data[\"y\"]): \n",
    "    for i in train_data['locations'][i] :\n",
    "        if i not in region_cnt_dict:\n",
    "            region_cnt_dict[i]=0\n",
    "            region_sum_dict[i]=0\n",
    "        else:\n",
    "            region_cnt_dict[i]+=1\n",
    "            region_sum_dict[i]+=y_i\n",
    "for region, r_sum in region_sum_dict.items(): \n",
    "    region_mean_dict[region] = r_sum / region_cnt_dict[region] "
   ]
  },
  {
   "cell_type": "code",
   "execution_count": 4,
   "metadata": {},
   "outputs": [
    {
     "name": "stdout",
     "output_type": "stream",
     "text": [
      "Cross-validation RMSE Scores\n",
      "Scores: 0.08598892714142381\n",
      "Mean: 0.08598892714142381\n",
      "Standard Deviation: 0.0\n",
      "\n",
      "\n",
      "RMSE: 0.08598892714142381\n"
     ]
    }
   ],
   "source": [
    "from sklearn.dummy import DummyClassifier\n",
    "\n",
    "dummy = DummyClassifier()\n",
    "dummy.fit(X,y)\n",
    "dumb_pred = dummy.predict(val_X)\n",
    "\n",
    "#reporting the rmse and mape\n",
    "\n",
    "from sklearn.metrics import mean_squared_error\n",
    "from sklearn.metrics import mean_absolute_percentage_error\n",
    "from sklearn.model_selection import cross_val_score\n",
    "\n",
    "def display_scores(scores):\n",
    "    print(\"Scores:\", scores)\n",
    "    print('Mean:', scores.mean())\n",
    "    print('Standard Deviation:', scores.std())\n",
    "\n",
    "dummy_mse = mean_squared_error(val_y, dumb_pred)\n",
    "dummy_rmse = np.sqrt(dummy_mse)\n",
    "dummy_scores = cross_val_score(dummy, val_X, val_y, cv=5, scoring='neg_mean_squared_error')\n",
    "dummmy_rmse = np.sqrt(-dummy_scores)\n",
    "\n",
    "print('Cross-validation RMSE Scores')\n",
    "display_scores(dummy_rmse)\n",
    "print('\\n')\n",
    "print('RMSE:', dummy_rmse)"
   ]
  },
  {
   "cell_type": "code",
   "execution_count": 5,
   "metadata": {},
   "outputs": [
    {
     "data": {
      "text/html": [
       "<div>\n",
       "<style scoped>\n",
       "    .dataframe tbody tr th:only-of-type {\n",
       "        vertical-align: middle;\n",
       "    }\n",
       "\n",
       "    .dataframe tbody tr th {\n",
       "        vertical-align: top;\n",
       "    }\n",
       "\n",
       "    .dataframe thead th {\n",
       "        text-align: right;\n",
       "    }\n",
       "</style>\n",
       "<table border=\"1\" class=\"dataframe\">\n",
       "  <thead>\n",
       "    <tr style=\"text-align: right;\">\n",
       "      <th></th>\n",
       "      <th>0</th>\n",
       "    </tr>\n",
       "  </thead>\n",
       "  <tbody>\n",
       "    <tr>\n",
       "      <th>0</th>\n",
       "      <td>0.000000</td>\n",
       "    </tr>\n",
       "    <tr>\n",
       "      <th>1</th>\n",
       "      <td>0.000000</td>\n",
       "    </tr>\n",
       "    <tr>\n",
       "      <th>2</th>\n",
       "      <td>0.000000</td>\n",
       "    </tr>\n",
       "    <tr>\n",
       "      <th>3</th>\n",
       "      <td>0.000000</td>\n",
       "    </tr>\n",
       "    <tr>\n",
       "      <th>4</th>\n",
       "      <td>0.000000</td>\n",
       "    </tr>\n",
       "    <tr>\n",
       "      <th>...</th>\n",
       "      <td>...</td>\n",
       "    </tr>\n",
       "    <tr>\n",
       "      <th>71995</th>\n",
       "      <td>0.051813</td>\n",
       "    </tr>\n",
       "    <tr>\n",
       "      <th>71996</th>\n",
       "      <td>0.150259</td>\n",
       "    </tr>\n",
       "    <tr>\n",
       "      <th>71997</th>\n",
       "      <td>0.103627</td>\n",
       "    </tr>\n",
       "    <tr>\n",
       "      <th>71998</th>\n",
       "      <td>0.279793</td>\n",
       "    </tr>\n",
       "    <tr>\n",
       "      <th>71999</th>\n",
       "      <td>0.150259</td>\n",
       "    </tr>\n",
       "  </tbody>\n",
       "</table>\n",
       "<p>72000 rows × 1 columns</p>\n",
       "</div>"
      ],
      "text/plain": [
       "              0\n",
       "0      0.000000\n",
       "1      0.000000\n",
       "2      0.000000\n",
       "3      0.000000\n",
       "4      0.000000\n",
       "...         ...\n",
       "71995  0.051813\n",
       "71996  0.150259\n",
       "71997  0.103627\n",
       "71998  0.279793\n",
       "71999  0.150259\n",
       "\n",
       "[72000 rows x 1 columns]"
      ]
     },
     "execution_count": 5,
     "metadata": {},
     "output_type": "execute_result"
    }
   ],
   "source": [
    "pd.DataFrame(y)"
   ]
  },
  {
   "cell_type": "markdown",
   "metadata": {},
   "source": [
    " # Questions 2 and 3\n",
    " ## 2. Extract features from the temporal data and use linear regression to predict demand on the validation set. Report the RMSE\n",
    " ## 3. Extract features from the temporal data and use XGBOOST to predict demand on the validation set. Report the RMSE"
   ]
  },
  {
   "cell_type": "code",
   "execution_count": 6,
   "metadata": {},
   "outputs": [],
   "source": [
    "\n",
    "#reshaping to extract features and fit to regressors\n",
    "X_d2 = train_data['x'][:, :, 24] \n",
    "val_X_d2 = val_data['x'][:, :, 24]\n",
    "#chose 24 since the target region (region i) is at the center of the 7*7 map. Thus, k=24 is the region i's demand value.\n",
    "\n",
    "#normalizing data\n",
    "#norm_X = normalize(X_d2)\n",
    "#norm_y = normalize(y)\n",
    "#norm_val_X = normalize(val_X_d2)\n",
    "#norm_val_y = normalize(val_y)\n",
    "\n",
    "#rint(norm_X.shape, norm_y.shape)\n",
    "#print(norm_val_X.shape, norm_val_y.shape)"
   ]
  },
  {
   "cell_type": "code",
   "execution_count": 7,
   "metadata": {},
   "outputs": [
    {
     "name": "stdout",
     "output_type": "stream",
     "text": [
      "Cross-validation RMSE scores for linear regression\n",
      "Scores: [0.02550744 0.02978776 0.02874696 0.02762409 0.02564588]\n",
      "Mean: 0.027462426971250443\n",
      "Standard Deviation: 0.001685534854306905\n",
      "\n",
      "\n",
      "Cross-validation RMSE scores for lasso\n",
      "Scores: [0.05859078 0.07102052 0.06993465 0.066013   0.06331302]\n",
      "Mean: 0.06577439594500713\n",
      "Standard Deviation: 0.00452877781936311\n",
      "\n",
      "\n",
      "Cross-validation RMSE scores for ridge\n",
      "Scores: [0.02549326 0.0298045  0.02874195 0.02762677 0.0256606 ]\n",
      "Mean: 0.027465417191639925\n",
      "Standard Deviation: 0.0016895943601378653\n",
      "\n",
      "\n",
      "Cross-validation rmse scores for xgboost\n",
      "Scores: [0.02530465 0.02888746 0.02843208 0.02735126 0.0251539 ]\n",
      "Mean: 0.027025870390225838\n",
      "Standard Deviation: 0.0015502062961659313\n",
      "\n",
      "\n",
      "RMSE for Linear Regression: 0.028346572445341688\n",
      "RMSE for Lasso: 0.0701381777964299\n",
      "RMSE for Ridge: 0.02835192123903229\n",
      "RMSE for XGBoost: 0.02841631360643217\n"
     ]
    }
   ],
   "source": [
    "from sklearn.linear_model import LinearRegression\n",
    "from sklearn.linear_model import Lasso\n",
    "from sklearn.linear_model import Ridge\n",
    "from sklearn.metrics import mean_squared_error\n",
    "import xgboost as xgb\n",
    "from xgboost import XGBRegressor\n",
    "\n",
    "lin_reg = LinearRegression()\n",
    "lin_reg.fit(X_d2,y)\n",
    "lasso = Lasso()\n",
    "lasso.fit(X_d2,y)\n",
    "ridge = Ridge()\n",
    "ridge.fit(X_d2,y)\n",
    "xgb_reg = XGBRegressor()\n",
    "xgb_reg.fit(X_d2,y)\n",
    "lin_pred = lin_reg.predict(val_X_d2)\n",
    "lasso_pred = lasso.predict(val_X_d2)\n",
    "ridge_pred = ridge.predict(val_X_d2)\n",
    "xgb_pred = xgb_reg.predict(val_X_d2)\n",
    "\n",
    "lin_reg_scores = cross_val_score(lin_reg,X_d2, y, cv=5, scoring = 'neg_mean_squared_error')\n",
    "lasso_scores = cross_val_score(lasso, X_d2, y, cv=5, scoring = 'neg_mean_squared_error')\n",
    "ridge_scores = cross_val_score(ridge, X_d2, y, cv=5, scoring = 'neg_mean_squared_error')\n",
    "xgb_scores = cross_val_score(xgb_reg, X_d2, y, cv=5, scoring = 'neg_mean_squared_error')\n",
    "\n",
    "lin_rmse = np.sqrt(-lin_reg_scores)\n",
    "lasso_rmse = np.sqrt(-lasso_scores)\n",
    "ridge_rmse = np.sqrt(-ridge_scores)\n",
    "xgb_rmse = np.sqrt(-xgb_scores)\n",
    "\n",
    "lin_mse = mean_squared_error(val_y, lin_pred)\n",
    "rmse_lin = np.sqrt(lin_mse)\n",
    "lasso_mse = mean_squared_error(val_y, lasso_pred)\n",
    "rmse_lasso = np.sqrt(lasso_mse)\n",
    "ridge_mse = mean_squared_error(val_y, ridge_pred)\n",
    "rmse_ridge = np.sqrt(ridge_mse)\n",
    "xgb_mse = mean_squared_error(val_y, xgb_pred)\n",
    "rmse_xgb = np.sqrt(xgb_mse)\n",
    "\n",
    "print('Cross-validation RMSE scores for linear regression')\n",
    "display_scores(lin_rmse)\n",
    "print('\\n')\n",
    "print('Cross-validation RMSE scores for lasso')\n",
    "display_scores(lasso_rmse)\n",
    "print('\\n')\n",
    "print('Cross-validation RMSE scores for ridge')\n",
    "display_scores(ridge_rmse)\n",
    "print('\\n')\n",
    "print('Cross-validation rmse scores for xgboost')\n",
    "display_scores(xgb_rmse)\n",
    "print('\\n')\n",
    "print('RMSE for Linear Regression:', rmse_lin)\n",
    "print('RMSE for Lasso:', rmse_lasso)\n",
    "print('RMSE for Ridge:', rmse_ridge)\n",
    "print('RMSE for XGBoost:', rmse_xgb)"
   ]
  },
  {
   "cell_type": "code",
   "execution_count": 8,
   "metadata": {},
   "outputs": [
    {
     "data": {
      "image/png": "[encoded data removed]",
      "text/plain": [
       "<Figure size 432x288 with 1 Axes>"
      ]
     },
     "metadata": {
      "needs_background": "light"
     },
     "output_type": "display_data"
    },
    {
     "data": {
      "image/png": "[encoded data removed]",
      "text/plain": [
       "<Figure size 432x288 with 1 Axes>"
      ]
     },
     "metadata": {
      "needs_background": "light"
     },
     "output_type": "display_data"
    },
    {
     "data": {
      "image/png": "[encoded data removed]",
      "text/plain": [
       "<Figure size 432x288 with 1 Axes>"
      ]
     },
     "metadata": {
      "needs_background": "light"
     },
     "output_type": "display_data"
    },
    {
     "data": {
      "image/png": "[encoded data removed]",
      "text/plain": [
       "<Figure size 432x288 with 1 Axes>"
      ]
     },
     "metadata": {
      "needs_background": "light"
     },
     "output_type": "display_data"
    }
   ],
   "source": [
    "plt.title('Linear Regression Plot')\n",
    "plt.plot(val_y)\n",
    "plt.plot(lin_pred)\n",
    "plt.legend([\"val_y\", \"pred\"])\n",
    "plt.show()\n",
    "\n",
    "plt.title('Lasso Plot')\n",
    "plt.plot(val_y)\n",
    "plt.plot(lasso_pred)\n",
    "plt.legend([\"val_y\", \"pred\"])\n",
    "plt.show()\n",
    "\n",
    "plt.title('Ridge Plot')\n",
    "plt.plot(val_y)\n",
    "plt.plot(ridge_pred)\n",
    "plt.legend([\"val_y\", \"pred\"])\n",
    "plt.show()\n",
    "\n",
    "plt.title('XGB Plot')\n",
    "plt.plot(val_y)\n",
    "plt.plot(xgb_pred)\n",
    "plt.legend([\"val_y\", \"pred\"])\n",
    "plt.show()\n"
   ]
  },
  {
   "cell_type": "markdown",
   "metadata": {},
   "source": [
    "\n",
    "# Implement a basic Recurrent Neural Network (RNN) to predict demand on the validation set. Report the RMSE "
   ]
  },
  {
   "cell_type": "code",
   "execution_count": 9,
   "metadata": {},
   "outputs": [],
   "source": [
    "def visualize_loss(history, title):\n",
    "    loss = history.history['loss']\n",
    "    val_loss = history.history['val_loss']\n",
    "    epochs = range(len(loss))\n",
    "    plt.figure()\n",
    "    plt.plot(epochs, loss, \"b\", label=\"Training loss\")\n",
    "    plt.plot(epochs, val_loss, \"r\", label=\"Validation loss\")\n",
    "    plt.title(title)\n",
    "    plt.xlabel(\"Epochs\")\n",
    "    plt.ylabel(\"Loss\")\n",
    "    plt.legend()\n",
    "    plt.show()\n",
    "\n",
    "inputs = X\n",
    "targets = y"
   ]
  },
  {
   "cell_type": "code",
   "execution_count": 10,
   "metadata": {},
   "outputs": [
    {
     "name": "stdout",
     "output_type": "stream",
     "text": [
      "Epoch 1/150\n",
      "2250/2250 [==============================] - 3s 1ms/step - loss: 0.0056 - root_mean_squared_error: 0.0747 - val_loss: 0.0017 - val_root_mean_squared_error: 0.0416\n",
      "Epoch 2/150\n",
      "2250/2250 [==============================] - 3s 1ms/step - loss: 0.0018 - root_mean_squared_error: 0.0428 - val_loss: 0.0014 - val_root_mean_squared_error: 0.0375\n",
      "Epoch 3/150\n",
      "2250/2250 [==============================] - 3s 1ms/step - loss: 0.0015 - root_mean_squared_error: 0.0382 - val_loss: 9.8219e-04 - val_root_mean_squared_error: 0.0313\n",
      "Epoch 4/150\n",
      "2250/2250 [==============================] - 3s 1ms/step - loss: 0.0012 - root_mean_squared_error: 0.0349 - val_loss: 8.7055e-04 - val_root_mean_squared_error: 0.0295\n",
      "Epoch 5/150\n",
      "2250/2250 [==============================] - 3s 1ms/step - loss: 0.0010 - root_mean_squared_error: 0.0321 - val_loss: 7.7721e-04 - val_root_mean_squared_error: 0.0279\n",
      "Epoch 6/150\n",
      "2250/2250 [==============================] - 3s 1ms/step - loss: 9.3623e-04 - root_mean_squared_error: 0.0306 - val_loss: 7.8220e-04 - val_root_mean_squared_error: 0.0280\n",
      "Epoch 7/150\n",
      "2250/2250 [==============================] - 3s 1ms/step - loss: 8.7667e-04 - root_mean_squared_error: 0.0296 - val_loss: 7.5163e-04 - val_root_mean_squared_error: 0.0274\n",
      "Epoch 8/150\n",
      "2250/2250 [==============================] - 3s 1ms/step - loss: 8.4818e-04 - root_mean_squared_error: 0.0291 - val_loss: 7.3695e-04 - val_root_mean_squared_error: 0.0271\n",
      "Epoch 9/150\n",
      "2250/2250 [==============================] - 3s 1ms/step - loss: 8.1164e-04 - root_mean_squared_error: 0.0285 - val_loss: 7.5387e-04 - val_root_mean_squared_error: 0.0275\n",
      "Epoch 10/150\n",
      "2250/2250 [==============================] - 3s 1ms/step - loss: 7.8211e-04 - root_mean_squared_error: 0.0280 - val_loss: 7.0962e-04 - val_root_mean_squared_error: 0.0266\n",
      "Epoch 11/150\n",
      "2250/2250 [==============================] - 3s 1ms/step - loss: 7.7772e-04 - root_mean_squared_error: 0.0279 - val_loss: 6.9131e-04 - val_root_mean_squared_error: 0.0263\n",
      "Epoch 12/150\n",
      "2250/2250 [==============================] - 3s 1ms/step - loss: 7.4452e-04 - root_mean_squared_error: 0.0273 - val_loss: 6.8026e-04 - val_root_mean_squared_error: 0.0261\n",
      "Epoch 13/150\n",
      "2250/2250 [==============================] - 3s 1ms/step - loss: 7.4067e-04 - root_mean_squared_error: 0.0272 - val_loss: 6.7362e-04 - val_root_mean_squared_error: 0.0260\n",
      "Epoch 14/150\n",
      "2250/2250 [==============================] - 3s 1ms/step - loss: 7.3899e-04 - root_mean_squared_error: 0.0272 - val_loss: 6.6517e-04 - val_root_mean_squared_error: 0.0258\n",
      "Epoch 15/150\n",
      "2250/2250 [==============================] - 3s 1ms/step - loss: 7.2640e-04 - root_mean_squared_error: 0.0270 - val_loss: 7.0863e-04 - val_root_mean_squared_error: 0.0266\n",
      "Epoch 16/150\n",
      "2250/2250 [==============================] - 3s 1ms/step - loss: 7.1637e-04 - root_mean_squared_error: 0.0268 - val_loss: 6.9875e-04 - val_root_mean_squared_error: 0.0264\n",
      "Epoch 17/150\n",
      "2250/2250 [==============================] - 3s 1ms/step - loss: 7.1691e-04 - root_mean_squared_error: 0.0268 - val_loss: 6.6066e-04 - val_root_mean_squared_error: 0.0257\n",
      "Epoch 18/150\n",
      "2250/2250 [==============================] - 3s 1ms/step - loss: 7.1106e-04 - root_mean_squared_error: 0.0267 - val_loss: 6.7617e-04 - val_root_mean_squared_error: 0.0260\n",
      "Epoch 19/150\n",
      "2250/2250 [==============================] - 3s 1ms/step - loss: 6.9748e-04 - root_mean_squared_error: 0.0264 - val_loss: 7.0610e-04 - val_root_mean_squared_error: 0.0266\n",
      "Epoch 20/150\n",
      "2250/2250 [==============================] - 3s 1ms/step - loss: 7.0815e-04 - root_mean_squared_error: 0.0266 - val_loss: 6.4496e-04 - val_root_mean_squared_error: 0.0254\n",
      "Epoch 21/150\n",
      "2250/2250 [==============================] - 3s 1ms/step - loss: 6.8455e-04 - root_mean_squared_error: 0.0262 - val_loss: 6.6220e-04 - val_root_mean_squared_error: 0.0257\n",
      "Epoch 22/150\n",
      "2250/2250 [==============================] - 3s 1ms/step - loss: 6.8684e-04 - root_mean_squared_error: 0.0262 - val_loss: 6.5743e-04 - val_root_mean_squared_error: 0.0256\n",
      "Epoch 23/150\n",
      "2250/2250 [==============================] - 3s 1ms/step - loss: 6.9049e-04 - root_mean_squared_error: 0.0263 - val_loss: 6.8373e-04 - val_root_mean_squared_error: 0.0261\n",
      "Epoch 24/150\n",
      "2250/2250 [==============================] - 3s 1ms/step - loss: 6.8305e-04 - root_mean_squared_error: 0.0261 - val_loss: 6.4104e-04 - val_root_mean_squared_error: 0.0253\n",
      "Epoch 25/150\n",
      "2250/2250 [==============================] - 3s 1ms/step - loss: 6.7399e-04 - root_mean_squared_error: 0.0260 - val_loss: 6.5876e-04 - val_root_mean_squared_error: 0.0257\n",
      "Epoch 26/150\n",
      "2250/2250 [==============================] - 3s 1ms/step - loss: 6.7649e-04 - root_mean_squared_error: 0.0260 - val_loss: 6.3581e-04 - val_root_mean_squared_error: 0.0252\n",
      "Epoch 27/150\n",
      "2250/2250 [==============================] - 3s 1ms/step - loss: 6.6533e-04 - root_mean_squared_error: 0.0258 - val_loss: 6.3124e-04 - val_root_mean_squared_error: 0.0251\n",
      "Epoch 28/150\n",
      "2250/2250 [==============================] - 3s 1ms/step - loss: 6.6957e-04 - root_mean_squared_error: 0.0259 - val_loss: 6.4181e-04 - val_root_mean_squared_error: 0.0253\n",
      "Epoch 29/150\n",
      "2250/2250 [==============================] - 3s 1ms/step - loss: 6.7109e-04 - root_mean_squared_error: 0.0259 - val_loss: 6.4741e-04 - val_root_mean_squared_error: 0.0254\n",
      "Epoch 30/150\n",
      "2250/2250 [==============================] - 3s 1ms/step - loss: 6.6583e-04 - root_mean_squared_error: 0.0258 - val_loss: 6.5954e-04 - val_root_mean_squared_error: 0.0257\n",
      "Epoch 31/150\n",
      "2250/2250 [==============================] - 3s 1ms/step - loss: 6.7543e-04 - root_mean_squared_error: 0.0260 - val_loss: 6.6130e-04 - val_root_mean_squared_error: 0.0257\n",
      "Epoch 32/150\n",
      "2250/2250 [==============================] - 3s 1ms/step - loss: 6.5834e-04 - root_mean_squared_error: 0.0257 - val_loss: 6.3343e-04 - val_root_mean_squared_error: 0.0252\n",
      "\n",
      "\n",
      "Validation RMSE for RNN Model: 0.025168018478633924\n",
      "\n",
      "\n"
     ]
    },
    {
     "data": {
      "image/png": "[encoded data removed]",
      "text/plain": [
       "<Figure size 432x288 with 1 Axes>"
      ]
     },
     "metadata": {
      "needs_background": "light"
     },
     "output_type": "display_data"
    },
    {
     "data": {
      "image/png": "[encoded data removed]",
      "text/plain": [
       "<Figure size 432x288 with 1 Axes>"
      ]
     },
     "metadata": {
      "needs_background": "light"
     },
     "output_type": "display_data"
    }
   ],
   "source": [
    "from keras.callbacks import EarlyStopping, ModelCheckpoint\n",
    "from keras.layers.core import Dense, Activation, Dropout\n",
    "from keras.preprocessing import sequence\n",
    "from keras.models import Sequential\n",
    "from keras.layers import Dense, Embedding\n",
    "from keras.layers import LSTM\n",
    "from keras.layers import SimpleRNN\n",
    "from keras.layers import Conv2D\n",
    "from sklearn.metrics import mean_squared_error\n",
    "\n",
    "learning_rate = 0.001\n",
    "\n",
    "\n",
    "callbacks = [EarlyStopping(monitor='val_loss', patience=5),\n",
    "             ModelCheckpoint('../models/model.h5', save_best_only=True, \n",
    "                             save_weights_only=False)]\n",
    "\n",
    "\n",
    "\n",
    "\n",
    "rnn_model = Sequential(\n",
    "    [\n",
    "        keras.layers.Input(shape=(inputs.shape[1], inputs.shape[2])),\n",
    "        keras.layers.SimpleRNN(16),\n",
    "        keras.layers.Dropout(0.2),\n",
    "        keras.layers.Dense(1),\n",
    "        keras.layers.Activation('sigmoid')\n",
    "    ]\n",
    ")\n",
    "rnn_model.compile(optimizer=keras.optimizers.Adam(learning_rate=learning_rate), loss=\"mse\",\n",
    "             metrics=[tf.keras.metrics.RootMeanSquaredError()])\n",
    "rnn_history = rnn_model.fit(X,y, epochs=150,\n",
    "                    callbacks=callbacks,\n",
    "                    validation_data=(val_X,val_y))\n",
    "rnn_pred = rnn_model.predict(val_X)\n",
    "rnn_mse = mean_squared_error(val_y,rnn_pred)\n",
    "rnn_rmse = np.sqrt(rnn_mse)\n",
    "\n",
    "\n",
    "print('\\n')\n",
    "print(\"Validation RMSE for RNN Model:\",rnn_rmse)\n",
    "print('\\n')\n",
    "\n",
    "plt.title('RNN Plot')\n",
    "plt.plot(val_y)\n",
    "plt.plot(rnn_pred)\n",
    "plt.legend([\"val_y\", \"pred\"])\n",
    "plt.show()\n",
    "\n",
    "\n",
    "visualize_loss(rnn_history, \"RNN Training and Validation Loss\")"
   ]
  },
  {
   "cell_type": "markdown",
   "metadata": {},
   "source": [
    "# Implement a basic LSTM Model to predict demand on the validation set. Report the RMSE"
   ]
  },
  {
   "cell_type": "code",
   "execution_count": 15,
   "metadata": {},
   "outputs": [
    {
     "name": "stdout",
     "output_type": "stream",
     "text": [
      "Epoch 1/150\n",
      "2250/2250 [==============================] - 8s 3ms/step - loss: 0.0042 - root_mean_squared_error: 0.0648 - val_loss: 8.4743e-04 - val_root_mean_squared_error: 0.0291\n",
      "Epoch 2/150\n",
      "2250/2250 [==============================] - 7s 3ms/step - loss: 8.4657e-04 - root_mean_squared_error: 0.0291 - val_loss: 7.0865e-04 - val_root_mean_squared_error: 0.0266\n",
      "Epoch 3/150\n",
      "2250/2250 [==============================] - 7s 3ms/step - loss: 7.1069e-04 - root_mean_squared_error: 0.0267 - val_loss: 6.4437e-04 - val_root_mean_squared_error: 0.0254\n",
      "Epoch 4/150\n",
      "2250/2250 [==============================] - 7s 3ms/step - loss: 6.5738e-04 - root_mean_squared_error: 0.0256 - val_loss: 6.5324e-04 - val_root_mean_squared_error: 0.0256\n",
      "Epoch 5/150\n",
      "2250/2250 [==============================] - 8s 3ms/step - loss: 6.2094e-04 - root_mean_squared_error: 0.0249 - val_loss: 5.8596e-04 - val_root_mean_squared_error: 0.0242\n",
      "Epoch 6/150\n",
      "2250/2250 [==============================] - 8s 3ms/step - loss: 5.9813e-04 - root_mean_squared_error: 0.0245 - val_loss: 6.4211e-04 - val_root_mean_squared_error: 0.0253\n",
      "Epoch 7/150\n",
      "2250/2250 [==============================] - 7s 3ms/step - loss: 5.6843e-04 - root_mean_squared_error: 0.0238 - val_loss: 5.6768e-04 - val_root_mean_squared_error: 0.0238\n",
      "Epoch 8/150\n",
      "2250/2250 [==============================] - 8s 3ms/step - loss: 5.5861e-04 - root_mean_squared_error: 0.0236 - val_loss: 5.4711e-04 - val_root_mean_squared_error: 0.0234\n",
      "Epoch 9/150\n",
      "2250/2250 [==============================] - 8s 3ms/step - loss: 5.4171e-04 - root_mean_squared_error: 0.0233 - val_loss: 5.4599e-04 - val_root_mean_squared_error: 0.0234\n",
      "Epoch 10/150\n",
      "2250/2250 [==============================] - 8s 3ms/step - loss: 5.3384e-04 - root_mean_squared_error: 0.0231 - val_loss: 5.4071e-04 - val_root_mean_squared_error: 0.0233\n",
      "Epoch 11/150\n",
      "2250/2250 [==============================] - 8s 3ms/step - loss: 5.1753e-04 - root_mean_squared_error: 0.0227 - val_loss: 5.2868e-04 - val_root_mean_squared_error: 0.0230\n",
      "Epoch 12/150\n",
      "2250/2250 [==============================] - 8s 3ms/step - loss: 5.1313e-04 - root_mean_squared_error: 0.0227 - val_loss: 5.1266e-04 - val_root_mean_squared_error: 0.0226\n",
      "Epoch 13/150\n",
      "2250/2250 [==============================] - 7s 3ms/step - loss: 5.0079e-04 - root_mean_squared_error: 0.0224 - val_loss: 5.2965e-04 - val_root_mean_squared_error: 0.0230\n",
      "Epoch 14/150\n",
      "2250/2250 [==============================] - 7s 3ms/step - loss: 4.9428e-04 - root_mean_squared_error: 0.0222 - val_loss: 5.1762e-04 - val_root_mean_squared_error: 0.0228\n",
      "Epoch 15/150\n",
      "2250/2250 [==============================] - 8s 3ms/step - loss: 4.8919e-04 - root_mean_squared_error: 0.0221 - val_loss: 5.0458e-04 - val_root_mean_squared_error: 0.0225\n",
      "Epoch 16/150\n",
      "2250/2250 [==============================] - 8s 3ms/step - loss: 4.8161e-04 - root_mean_squared_error: 0.0219 - val_loss: 5.2315e-04 - val_root_mean_squared_error: 0.0229\n",
      "Epoch 17/150\n",
      "2250/2250 [==============================] - 8s 3ms/step - loss: 4.7826e-04 - root_mean_squared_error: 0.0219 - val_loss: 5.0196e-04 - val_root_mean_squared_error: 0.0224\n",
      "Epoch 18/150\n",
      "2250/2250 [==============================] - 8s 3ms/step - loss: 4.6938e-04 - root_mean_squared_error: 0.0217 - val_loss: 5.5020e-04 - val_root_mean_squared_error: 0.0235\n",
      "Epoch 19/150\n",
      "2250/2250 [==============================] - 8s 3ms/step - loss: 4.6159e-04 - root_mean_squared_error: 0.0215 - val_loss: 4.9261e-04 - val_root_mean_squared_error: 0.0222\n",
      "Epoch 20/150\n",
      "2250/2250 [==============================] - 7s 3ms/step - loss: 4.5967e-04 - root_mean_squared_error: 0.0214 - val_loss: 5.0699e-04 - val_root_mean_squared_error: 0.0225\n",
      "Epoch 21/150\n",
      "2250/2250 [==============================] - 8s 3ms/step - loss: 4.5599e-04 - root_mean_squared_error: 0.0214 - val_loss: 4.8728e-04 - val_root_mean_squared_error: 0.0221\n",
      "Epoch 22/150\n",
      "2250/2250 [==============================] - 8s 3ms/step - loss: 4.4426e-04 - root_mean_squared_error: 0.0211 - val_loss: 4.8026e-04 - val_root_mean_squared_error: 0.0219\n",
      "Epoch 23/150\n",
      "2250/2250 [==============================] - 8s 3ms/step - loss: 4.4881e-04 - root_mean_squared_error: 0.0212 - val_loss: 5.3789e-04 - val_root_mean_squared_error: 0.0232\n",
      "Epoch 24/150\n",
      "2250/2250 [==============================] - 8s 3ms/step - loss: 4.4054e-04 - root_mean_squared_error: 0.0210 - val_loss: 5.0338e-04 - val_root_mean_squared_error: 0.0224\n",
      "Epoch 25/150\n",
      "2250/2250 [==============================] - 8s 3ms/step - loss: 4.3709e-04 - root_mean_squared_error: 0.0209 - val_loss: 4.8222e-04 - val_root_mean_squared_error: 0.0220\n",
      "Epoch 26/150\n",
      "2250/2250 [==============================] - 8s 3ms/step - loss: 4.3423e-04 - root_mean_squared_error: 0.0208 - val_loss: 5.1376e-04 - val_root_mean_squared_error: 0.0227\n",
      "Epoch 27/150\n",
      "2250/2250 [==============================] - 8s 3ms/step - loss: 4.3414e-04 - root_mean_squared_error: 0.0208 - val_loss: 4.7251e-04 - val_root_mean_squared_error: 0.0217\n",
      "Epoch 28/150\n",
      "2250/2250 [==============================] - 8s 3ms/step - loss: 4.2647e-04 - root_mean_squared_error: 0.0207 - val_loss: 4.8573e-04 - val_root_mean_squared_error: 0.0220\n",
      "Epoch 29/150\n",
      "2250/2250 [==============================] - 8s 3ms/step - loss: 4.1983e-04 - root_mean_squared_error: 0.0205 - val_loss: 4.6880e-04 - val_root_mean_squared_error: 0.0217\n",
      "Epoch 30/150\n",
      "2250/2250 [==============================] - 8s 3ms/step - loss: 4.1717e-04 - root_mean_squared_error: 0.0204 - val_loss: 4.9435e-04 - val_root_mean_squared_error: 0.0222\n",
      "Epoch 31/150\n",
      "2250/2250 [==============================] - 8s 3ms/step - loss: 4.2360e-04 - root_mean_squared_error: 0.0206 - val_loss: 4.8047e-04 - val_root_mean_squared_error: 0.0219\n",
      "Epoch 32/150\n",
      "2250/2250 [==============================] - 8s 3ms/step - loss: 4.1516e-04 - root_mean_squared_error: 0.0204 - val_loss: 4.7322e-04 - val_root_mean_squared_error: 0.0218\n",
      "Epoch 33/150\n",
      "2250/2250 [==============================] - 8s 3ms/step - loss: 4.1354e-04 - root_mean_squared_error: 0.0203 - val_loss: 4.6699e-04 - val_root_mean_squared_error: 0.0216\n",
      "Epoch 34/150\n",
      "2250/2250 [==============================] - 8s 3ms/step - loss: 4.0664e-04 - root_mean_squared_error: 0.0202 - val_loss: 4.7791e-04 - val_root_mean_squared_error: 0.0219\n",
      "Epoch 35/150\n",
      "2250/2250 [==============================] - 8s 3ms/step - loss: 4.0915e-04 - root_mean_squared_error: 0.0202 - val_loss: 4.7375e-04 - val_root_mean_squared_error: 0.0218\n",
      "Epoch 36/150\n",
      "2250/2250 [==============================] - 8s 3ms/step - loss: 4.0113e-04 - root_mean_squared_error: 0.0200 - val_loss: 4.8234e-04 - val_root_mean_squared_error: 0.0220\n",
      "Epoch 37/150\n",
      "2250/2250 [==============================] - 8s 3ms/step - loss: 4.0231e-04 - root_mean_squared_error: 0.0201 - val_loss: 4.7542e-04 - val_root_mean_squared_error: 0.0218\n",
      "Epoch 38/150\n",
      "2250/2250 [==============================] - 8s 3ms/step - loss: 3.9669e-04 - root_mean_squared_error: 0.0199 - val_loss: 4.8342e-04 - val_root_mean_squared_error: 0.0220\n",
      "\n",
      "\n",
      "Validation RMSE for LSTM Model: 0.02198676584569212\n",
      "\n",
      "\n"
     ]
    },
    {
     "data": {
      "image/png": "[encoded data removed]",
      "text/plain": [
       "<Figure size 432x288 with 1 Axes>"
      ]
     },
     "metadata": {
      "needs_background": "light"
     },
     "output_type": "display_data"
    },
    {
     "data": {
      "image/png": "[encoded data removed]",
      "text/plain": [
       "<Figure size 432x288 with 1 Axes>"
      ]
     },
     "metadata": {
      "needs_background": "light"
     },
     "output_type": "display_data"
    }
   ],
   "source": [
    "lstm_model = Sequential(\n",
    "    [\n",
    "        keras.layers.Input(shape=(inputs.shape[1], inputs.shape[2])),\n",
    "        keras.layers.LSTM(128),\n",
    "        keras.layers.Dropout(0.2),\n",
    "        keras.layers.Dense(1),\n",
    "        keras.layers.Activation('sigmoid')\n",
    "    ]\n",
    ")\n",
    "lstm_model.compile(optimizer=keras.optimizers.Adam(learning_rate=learning_rate), loss=\"mse\",\n",
    "             metrics=[tf.keras.metrics.RootMeanSquaredError()])\n",
    "lstm_history = lstm_model.fit(X,y, epochs=150,\n",
    "                    callbacks=callbacks,\n",
    "                    validation_data=(val_X,val_y),\n",
    "                        verbose=1)\n",
    "lstm_pred = lstm_model.predict(val_X)\n",
    "lstm_mse = mean_squared_error(val_y,lstm_pred)\n",
    "lstm_rmse = np.sqrt(lstm_mse)\n",
    "\n",
    "print('\\n')\n",
    "print(\"Validation RMSE for LSTM Model:\",lstm_rmse)\n",
    "print('\\n')\n",
    "\n",
    "plt.title('LSTM Plot')\n",
    "plt.plot(val_y)\n",
    "plt.plot(lstm_pred)\n",
    "plt.legend([\"val_y\", \"pred\"])\n",
    "plt.show()\n",
    "\n",
    "visualize_loss(lstm_history, \"LSTM Training and Validation Loss\")"
   ]
  },
  {
   "cell_type": "code",
   "execution_count": 16,
   "metadata": {},
   "outputs": [],
   "source": [
    "test_predictions = lstm_model.predict(test)\n",
    "pred_df = pd.DataFrame(test_predictions)"
   ]
  },
  {
   "cell_type": "code",
   "execution_count": 21,
   "metadata": {},
   "outputs": [
    {
     "data": {
      "text/html": [
       "<div>\n",
       "<style scoped>\n",
       "    .dataframe tbody tr th:only-of-type {\n",
       "        vertical-align: middle;\n",
       "    }\n",
       "\n",
       "    .dataframe tbody tr th {\n",
       "        vertical-align: top;\n",
       "    }\n",
       "\n",
       "    .dataframe thead th {\n",
       "        text-align: right;\n",
       "    }\n",
       "</style>\n",
       "<table border=\"1\" class=\"dataframe\">\n",
       "  <thead>\n",
       "    <tr style=\"text-align: right;\">\n",
       "      <th></th>\n",
       "      <th>0</th>\n",
       "    </tr>\n",
       "  </thead>\n",
       "  <tbody>\n",
       "    <tr>\n",
       "      <th>0</th>\n",
       "      <td>0.000012</td>\n",
       "    </tr>\n",
       "    <tr>\n",
       "      <th>1</th>\n",
       "      <td>0.000002</td>\n",
       "    </tr>\n",
       "    <tr>\n",
       "      <th>2</th>\n",
       "      <td>0.000006</td>\n",
       "    </tr>\n",
       "    <tr>\n",
       "      <th>3</th>\n",
       "      <td>0.000037</td>\n",
       "    </tr>\n",
       "    <tr>\n",
       "      <th>4</th>\n",
       "      <td>0.000031</td>\n",
       "    </tr>\n",
       "    <tr>\n",
       "      <th>...</th>\n",
       "      <td>...</td>\n",
       "    </tr>\n",
       "    <tr>\n",
       "      <th>1595</th>\n",
       "      <td>0.008416</td>\n",
       "    </tr>\n",
       "    <tr>\n",
       "      <th>1596</th>\n",
       "      <td>0.020207</td>\n",
       "    </tr>\n",
       "    <tr>\n",
       "      <th>1597</th>\n",
       "      <td>0.019783</td>\n",
       "    </tr>\n",
       "    <tr>\n",
       "      <th>1598</th>\n",
       "      <td>0.019724</td>\n",
       "    </tr>\n",
       "    <tr>\n",
       "      <th>1599</th>\n",
       "      <td>0.017464</td>\n",
       "    </tr>\n",
       "  </tbody>\n",
       "</table>\n",
       "<p>1600 rows × 1 columns</p>\n",
       "</div>"
      ],
      "text/plain": [
       "             0\n",
       "0     0.000012\n",
       "1     0.000002\n",
       "2     0.000006\n",
       "3     0.000037\n",
       "4     0.000031\n",
       "...        ...\n",
       "1595  0.008416\n",
       "1596  0.020207\n",
       "1597  0.019783\n",
       "1598  0.019724\n",
       "1599  0.017464\n",
       "\n",
       "[1600 rows x 1 columns]"
      ]
     },
     "execution_count": 21,
     "metadata": {},
     "output_type": "execute_result"
    }
   ],
   "source": [
    "pred_df"
   ]
  },
  {
   "cell_type": "code",
   "execution_count": 27,
   "metadata": {},
   "outputs": [],
   "source": [
    "pred_df.to_csv(r'richard_cruz_labels.csv',header=False, index=False)\n"
   ]
  }
 ],
 "metadata": {
  "kernelspec": {
   "display_name": "Python 3",
   "language": "python",
   "name": "python3"
  },
  "language_info": {
   "codemirror_mode": {
    "name": "ipython",
    "version": 3
   },
   "file_extension": ".py",
   "mimetype": "text/x-python",
   "name": "python",
   "nbconvert_exporter": "python",
   "pygments_lexer": "ipython3",
   "version": "3.8.5"
  }
 },
 "nbformat": 4,
 "nbformat_minor": 4
}

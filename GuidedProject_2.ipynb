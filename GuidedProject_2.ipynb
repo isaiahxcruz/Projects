{
 "cells": [
  {
   "cell_type": "markdown",
   "metadata": {},
   "source": [
    "# Guided Project: Exploring Hacker News Posts\n",
    "\n",
    "## About\n",
    "\n",
    "In this project I will work with a data set of submissions posted to the website Hacker News. The data set has been reduced substantially from 300k rows to 20k; this was done by removing submissions that did not recieve any comment and randomly sampling the rest.\n",
    "\n",
    "The project requires specific attention and interest on posts whose titles begin with either **Ask HN** or **Show HN**. **Ask HN** is used to submit a question and **Show HN** is used to show something. \n",
    "\n",
    "The purpose of the project is to compare the two post types and determine the following:\n",
    " * Do Ask HN or Show HN recieve more comments on average? \n",
    " * Do posts created at a certain time recieve more comments on average?\n",
    " \n",
    "## Data Set\n",
    " \n",
    " The data set contains\n",
    " \n",
    " ## Remember to fill in markdown cells before posting this to github"
   ]
  },
  {
   "cell_type": "markdown",
   "metadata": {},
   "source": [
    "# Instructions\n",
    "1. Start by adding a title and writing a paragraph in a markdown cell introducing the project and the data set. The title and the introduction are tentative at this point, so don't spend too much time here — you can come back at the end of your work to refine them.\n",
    "2. Read the hacker_news.csv file in as a list of lists.\n",
    "     * Assign the result to the variable hn.\n",
    "3. Display the first five rows of hn."
   ]
  },
  {
   "cell_type": "code",
   "execution_count": 19,
   "metadata": {},
   "outputs": [
    {
     "name": "stdout",
     "output_type": "stream",
     "text": [
      "[['id', 'title', 'url', 'num_points', 'num_comments', 'author', 'created_at'], ['12224879', 'Interactive Dynamic Video', 'http://www.interactivedynamicvideo.com/', '386', '52', 'ne0phyte', '8/4/2016 11:52'], ['10975351', 'How to Use Open Source and Shut the Fuck Up at the Same Time', 'http://hueniverse.com/2016/01/26/how-to-use-open-source-and-shut-the-fuck-up-at-the-same-time/', '39', '10', 'josep2', '1/26/2016 19:30'], ['11964716', \"Florida DJs May Face Felony for April Fools' Water Joke\", 'http://www.thewire.com/entertainment/2013/04/florida-djs-april-fools-water-joke/63798/', '2', '1', 'vezycash', '6/23/2016 22:20'], ['11919867', 'Technology ventures: From Idea to Enterprise', 'https://www.amazon.com/Technology-Ventures-Enterprise-Thomas-Byers/dp/0073523429', '3', '1', 'hswarna', '6/17/2016 0:01']]\n"
     ]
    }
   ],
   "source": [
    "from csv import reader\n",
    "\n",
    "opened_file = open('hacker_news.csv')\n",
    "read_file = reader(opened_file)\n",
    "hn = list(read_file)\n",
    "print(hn[:5])"
   ]
  },
  {
   "cell_type": "markdown",
   "metadata": {},
   "source": [
    "## Instructions \n",
    "1. extract the first row of data, and assign it to the variable **headers**\n",
    "2. remove the first row from hn\n",
    "3. display **headers**\n",
    "4. display the first five rows of **hn** to verify that you removef the header row properly"
   ]
  },
  {
   "cell_type": "code",
   "execution_count": 24,
   "metadata": {},
   "outputs": [
    {
     "name": "stdout",
     "output_type": "stream",
     "text": [
      "['10975351', 'How to Use Open Source and Shut the Fuck Up at the Same Time', 'http://hueniverse.com/2016/01/26/how-to-use-open-source-and-shut-the-fuck-up-at-the-same-time/', '39', '10', 'josep2', '1/26/2016 19:30']\n",
      "[['11964716', \"Florida DJs May Face Felony for April Fools' Water Joke\", 'http://www.thewire.com/entertainment/2013/04/florida-djs-april-fools-water-joke/63798/', '2', '1', 'vezycash', '6/23/2016 22:20'], ['11919867', 'Technology ventures: From Idea to Enterprise', 'https://www.amazon.com/Technology-Ventures-Enterprise-Thomas-Byers/dp/0073523429', '3', '1', 'hswarna', '6/17/2016 0:01'], ['10301696', 'Note by Note: The Making of Steinway L1037 (2007)', 'http://www.nytimes.com/2007/11/07/movies/07stein.html?_r=0', '8', '2', 'walterbell', '9/30/2015 4:12'], ['10482257', 'Title II kills investment? Comcast and other ISPs are now spending more', 'http://arstechnica.com/business/2015/10/comcast-and-other-isps-boost-network-investment-despite-net-neutrality/', '53', '22', 'Deinos', '10/31/2015 9:48'], ['10557283', 'Nuts and Bolts Business Advice', '', '3', '4', 'shomberj', '11/13/2015 0:45']]\n"
     ]
    }
   ],
   "source": [
    "headers = hn[0]\n",
    "hn = hn[1:]\n",
    "print(headers)\n",
    "print(hn[:5])"
   ]
  },
  {
   "cell_type": "markdown",
   "metadata": {},
   "source": [
    "## Instructions\n",
    "\n",
    "Create three empty lists called ask_posts, show_posts, and other_posts.\n",
    "Loop through each row in hn.\n",
    "Assign the title in each row to a variable named title.\n",
    "Because the title column is the second column, you'll need to get the element at index 1 in each row.\n",
    "Implement the following steps:\n",
    "If the lowercase version of title starts with ask hn, append the row to ask_posts.\n",
    "Else if the lowercase version of title starts with show hn, append the row to show_posts.\n",
    "Else append to other_posts.\n",
    "Check the number of posts in ask_posts, show_posts, and other_posts"
   ]
  },
  {
   "cell_type": "code",
   "execution_count": 67,
   "metadata": {},
   "outputs": [
    {
     "name": "stdout",
     "output_type": "stream",
     "text": [
      "1744\n",
      "1162\n",
      "17192\n",
      "[['12296411', 'Ask HN: How to improve my personal website?', '', '2', '6', 'ahmedbaracat', '8/16/2016 9:55'], ['10610020', 'Ask HN: Am I the only one outraged by Twitter shutting down share counts?', '', '28', '29', 'tkfx', '11/22/2015 13:43'], ['11610310', 'Ask HN: Aby recent changes to CSS that broke mobile?', '', '1', '1', 'polskibus', '5/2/2016 10:14'], ['12210105', 'Ask HN: Looking for Employee #3 How do I do it?', '', '1', '3', 'sph130', '8/2/2016 14:20'], ['10394168', 'Ask HN: Someone offered to buy my browser extension from me. What now?', '', '28', '17', 'roykolak', '10/15/2015 16:38']]\n",
      "[['10627194', 'Show HN: Wio Link  ESP8266 Based Web of Things Hardware Development Platform', 'https://iot.seeed.cc', '26', '22', 'kfihihc', '11/25/2015 14:03'], ['10646440', 'Show HN: Something pointless I made', 'http://dn.ht/picklecat/', '747', '102', 'dhotson', '11/29/2015 22:46'], ['11590768', 'Show HN: Shanhu.io, a programming playground powered by e8vm', 'https://shanhu.io', '1', '1', 'h8liu', '4/28/2016 18:05'], ['12178806', 'Show HN: Webscope  Easy way for web developers to communicate with Clients', 'http://webscopeapp.com', '3', '3', 'fastbrick', '7/28/2016 7:11'], ['10872799', 'Show HN: GeoScreenshot  Easily test Geo-IP based web pages', 'https://www.geoscreenshot.com/', '1', '9', 'kpsychwave', '1/9/2016 20:45']]\n"
     ]
    }
   ],
   "source": [
    "ask_posts = []\n",
    "show_posts = []\n",
    "other_posts = []\n",
    "for row in hn:\n",
    "    title = row[1]\n",
    "    if (title.lower().startswith('ask hn')):\n",
    "        ask_posts.append(row)\n",
    "    elif (title.lower().startswith('show hn')):\n",
    "        show_posts.append(row)\n",
    "    else:\n",
    "        other_posts.append(row)\n",
    "print(len(ask_posts))\n",
    "print(len(show_posts))\n",
    "print(len(other_posts))\n",
    "print(ask_posts[:5])\n",
    "print(show_posts[:5])"
   ]
  },
  {
   "cell_type": "markdown",
   "metadata": {},
   "source": [
    "## Instructions\n",
    "Find the total number of comments in ask posts and assign it to total_ask_comments.\n",
    "Set total_ask_comments to 0.\n",
    "Use a for loop to iterate over the ask posts.\n",
    "Because the num_comments column is the fifth column in ask_posts, you'll need to get the element at index 4 in each row.\n",
    "You'll also need to convert the value to an integer so that we can calculate the sum of all the comments.\n",
    "Add this value to total_ask_comments.\n",
    "Compute the average number of comments on ask posts and assign it to avg_ask_comments.\n",
    "Print avg_ask_comments.\n",
    "Find the total number of comments in show posts and assign it to total_show_comments.\n",
    "Set total_show_comments to 0.\n",
    "Use a for loop to iterate over the show posts.\n",
    "Because the num_comments column is the fifth column in show_posts, you'll need to get the element at index 4 in each row.\n",
    "You'll also need to convert the value to an integer so that we can calculate the sum of all the comments.\n",
    "Add this value to total_show_comments.\n",
    "Compute the average number of comments on show posts and assign it to avg_show_comments.\n",
    "Print avg_show_comments.\n",
    "Do show posts or ask posts receive more comments on average? Write a markdown cell explaining your findings."
   ]
  },
  {
   "cell_type": "code",
   "execution_count": 76,
   "metadata": {},
   "outputs": [
    {
     "name": "stdout",
     "output_type": "stream",
     "text": [
      "14.038417431192661\n",
      "10.31669535283993\n"
     ]
    }
   ],
   "source": [
    "total_ask_comments = 0\n",
    "for row in ask_posts:\n",
    "    num_comments = row[4]\n",
    "    num_comments = int(num_comments)\n",
    "    total_ask_comments += num_comments\n",
    "avg_ask_comments = total_ask_comments / len(ask_posts)\n",
    "print(avg_ask_comments)\n",
    "total_show_comments = 0\n",
    "for row in show_posts:\n",
    "    total_show_comments += int(row[4])\n",
    "avg_show_comments = total_show_comments / len(show_posts)\n",
    "print(avg_show_comments)"
   ]
  },
  {
   "cell_type": "markdown",
   "metadata": {},
   "source": [
    "Data indicates that ask posts recieve more comments. THis can be expected though, it is not odd that questions are recieving more interactions than regular show posts"
   ]
  },
  {
   "cell_type": "markdown",
   "metadata": {},
   "source": [
    "## Instructions\n",
    "\n",
    "1. Import the datetime module as dt.\n",
    "2. Create an empty list and assign it to result_list. This will be a list of lists.\n",
    "3. Iterate over ask_posts and append to result_list a list with two elements:\n",
    "    The first element shall be the column created_at.\n",
    "     Because the created_at column is the seventh column in ask_posts, you'll need to get the element at index 6 in each row.\n",
    "    The second element shall be the number of comments of the post.\n",
    "You'll also need to convert the value to an integer.\n",
    "Create two empty dictionaries called counts_by_hour and comments_by_hour.\n",
    "Loop through each row of result_list.\n",
    "Extract the hour from the date, which is the first element of the row.\n",
    "Use the datetime.strptime() method to parse the date and create a datetime object.\n",
    "Use the string we want to parse as the first argument and a string that specifies the format as the second argument.\n",
    "Use the datetime.strftime() method to select just the hour from the datetime object.\n",
    "If the hour isn't a key in counts_by_hour:\n",
    "Create the key in counts_by_hour and set it equal to 1.\n",
    "Create the key in comments_by_hour and set it equal to the comment number.\n",
    "If the hour is already a key in counts_by_hour:\n",
    "Increment the value in counts_by_hour by 1.\n",
    "Increment the value in comments_by_hour by the comment number."
   ]
  },
  {
   "cell_type": "code",
   "execution_count": 168,
   "metadata": {},
   "outputs": [
    {
     "name": "stdout",
     "output_type": "stream",
     "text": [
      "{'09': 45, '13': 85, '10': 59, '14': 107, '16': 108, '23': 68, '12': 73, '17': 100, '15': 116, '21': 109, '20': 80, '02': 58, '18': 109, '03': 54, '05': 46, '19': 110, '01': 60, '22': 71, '08': 48, '04': 47, '00': 55, '06': 44, '07': 34, '11': 58}\n",
      "{'09': 251, '13': 1253, '10': 793, '14': 1416, '16': 1814, '23': 543, '12': 687, '17': 1146, '15': 4477, '21': 1745, '20': 1722, '02': 1381, '18': 1439, '03': 421, '05': 464, '19': 1188, '01': 683, '22': 479, '08': 492, '04': 337, '00': 447, '06': 397, '07': 267, '11': 641}\n",
      "2\n"
     ]
    }
   ],
   "source": [
    "import datetime as dt\n",
    "result_list = []\n",
    "for row in ask_posts:\n",
    "    created_at = row[6]\n",
    "    num_comments = int(row[4])\n",
    "    each_list = [created_at, num_comments]\n",
    "    result_list.append(each_list)\n",
    "counts_by_hour = {}\n",
    "comments_by_hour = {}\n",
    "for row in result_list:\n",
    "    date = row[0]\n",
    "    num_comments = row[1]\n",
    "    dt_object = dt.datetime.strptime(date, '%m/%d/%Y %H:%M')\n",
    "    dt_hour = dt_object.strftime('%H')\n",
    "    if dt_hour not in counts_by_hour:\n",
    "        counts_by_hour[dt_hour] = 1\n",
    "        comments_by_hour[dt_hour] = num_comments\n",
    "    else:\n",
    "        counts_by_hour[dt_hour]+=1\n",
    "        comments_by_hour[dt_hour]+=num_comments\n",
    "print(counts_by_hour)\n",
    "print(comments_by_hour)\n",
    "print(num_comments)"
   ]
  },
  {
   "cell_type": "markdown",
   "metadata": {},
   "source": [
    "In the last screen, we created two dictionaries:\n",
    "\n",
    "counts_by_hour: contains the number of ask posts created during each hour of the day.\n",
    "comments_by_hour: contains the corresponding number of comments ask posts created at each hour received.\n",
    "Next, we'll use these two dictionaries to calculate the average number of comments for posts created during each hour of the day.\n",
    "\n",
    "To illustrate the technique, let's work with the following dictionary:\n",
    "\n",
    "sample_dict = {\n",
    "                'apple': 2, \n",
    "                'banana': 4, \n",
    "                'orange': 6\n",
    "               }\n",
    "Suppose we wanted to multiply each of the values by ten and return the results as a list of lists. We can use the following code:\n",
    "\n",
    "fruits = []\n",
    "​\n",
    "for fruit in sample_dict:\n",
    "    fruits.append([fruit, 10*sample_dict[fruit]])\n",
    "Below are the results:\n",
    "\n",
    "[['apple', 20], ['banana', 40], ['orange', 60]]\n",
    "In the example above, we:\n",
    "\n",
    "Initialized an empty list (of lists) and assigned it to fruits.\n",
    "Iterated over the keys of sample_dict and appended to fruits a list whose:\n",
    "First element is the key from sample_dict.\n",
    "Second element is the value corresponding to that key multiplied by ten.\n",
    "Let's use this format to create a list of lists containing the hours during which posts were created and the average number of comments those posts received.\n",
    "Instructions\n",
    "\n",
    "Use the example above to calculate the average number of comments per post for posts created during each hour of the day.\n",
    "The result should be a list of lists in which the first element is the hour and the second element is the average number of comments per post. Assign the result to a variable named avg_by_hour. Display the results."
   ]
  },
  {
   "cell_type": "code",
   "execution_count": 171,
   "metadata": {},
   "outputs": [
    {
     "name": "stdout",
     "output_type": "stream",
     "text": [
      "[['09', 5.5777777777777775], ['13', 14.741176470588234], ['10', 13.440677966101696], ['14', 13.233644859813085], ['16', 16.796296296296298], ['23', 7.985294117647059], ['12', 9.41095890410959], ['17', 11.46], ['15', 38.5948275862069], ['21', 16.009174311926607], ['20', 21.525], ['02', 23.810344827586206], ['18', 13.20183486238532], ['03', 7.796296296296297], ['05', 10.08695652173913], ['19', 10.8], ['01', 11.383333333333333], ['22', 6.746478873239437], ['08', 10.25], ['04', 7.170212765957447], ['00', 8.127272727272727], ['06', 9.022727272727273], ['07', 7.852941176470588], ['11', 11.051724137931034]]\n"
     ]
    }
   ],
   "source": [
    "avg_by_hour = []\n",
    "for hour in comments_by_hour:\n",
    "    avg_by_hour.append([hour, comments_by_hour[hour]/counts_by_hour[hour]])\n",
    "print(avg_by_hour)"
   ]
  },
  {
   "cell_type": "markdown",
   "metadata": {},
   "source": []
  },
  {
   "cell_type": "code",
   "execution_count": 245,
   "metadata": {},
   "outputs": [
    {
     "name": "stdout",
     "output_type": "stream",
     "text": [
      "Top Five Hours For Ask Post Comments\n",
      "15:00: 38.59 average comments per hour\n",
      "02:00: 23.81 average comments per hour\n",
      "20:00: 21.52 average comments per hour\n",
      "16:00: 16.80 average comments per hour\n",
      "21:00: 16.01 average comments per hour\n"
     ]
    }
   ],
   "source": [
    "\n",
    "swap_avg_hour = []\n",
    "for row in avg_by_hour:\n",
    "    reverse_list = [row[1], row[0]]\n",
    "    swap_avg_hour.append(reverse_list)\n",
    "sorted_swap = sorted(swap_avg_hour, reverse=True)\n",
    "print('Top Five Hours For Ask Post Comments')\n",
    "for row in sorted_swap[:5]:\n",
    "    hour = row[1]\n",
    "    avg = row[0]\n",
    "    dt_object = dt.datetime.strptime(hour, '%H')\n",
    "    dt_hour = dt_object.time()\n",
    "    dt_hour = dt_hour.strftime('%H:%M')\n",
    "    output = '{h}: {a:.2f} average comments per post'.format(h=dt_hour, a=avg)\n",
    "    print(output)"
   ]
  },
  {
   "cell_type": "code",
   "execution_count": null,
   "metadata": {},
   "outputs": [],
   "source": []
  },
  {
   "cell_type": "code",
   "execution_count": null,
   "metadata": {},
   "outputs": [],
   "source": []
  },
  {
   "cell_type": "code",
   "execution_count": null,
   "metadata": {},
   "outputs": [],
   "source": []
  }
 ],
 "metadata": {
  "kernelspec": {
   "display_name": "Python 3",
   "language": "python",
   "name": "python3"
  },
  "language_info": {
   "codemirror_mode": {
    "name": "ipython",
    "version": 3
   },
   "file_extension": ".py",
   "mimetype": "text/x-python",
   "name": "python",
   "nbconvert_exporter": "python",
   "pygments_lexer": "ipython3",
   "version": "3.8.3"
  }
 },
 "nbformat": 4,
 "nbformat_minor": 4
}

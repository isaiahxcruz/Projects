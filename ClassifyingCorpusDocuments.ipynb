{
 "cells": [
  {
   "cell_type": "markdown",
   "metadata": {},
   "source": [
    "The goal of this assignment is to classify documents in a corpus. You will train a variety of tree-based models and evaluate each one using 5-fold cross-validation. Using your best performing model, you will run inference on a test set and submit the predicted labels.\n",
    "Dataset description:\n",
    "\n",
    "You will use the news dataset from Assignment 1. As before, the dataset contains five categories( sport, business, politics, entertainment, tech). The task is to classify documents to one of these five categories. You will be provided with the following datasets:\n",
    "Raw training data (link) with labels:\n",
    "The dataset contains raw text of 1490 news articles and the article category. Each row is a document.\n",
    "The raw file is a .csv with three columns: ArticleId, Text, Category \n",
    "The “Category” column are the labels you will use for training\n",
    "Raw test data (link) without labels\n",
    "This dataset contains raw text of 736 news articles. Each row is a document.\n",
    "The raw file is a .csv with two columns: ArticleId,Text. \n",
    "The labels are not provided\n",
    "\n",
    "Your job:\n",
    "Preprocess the raw training data. You can use your code from assignment one. Additionally, you can use the code from the posted solution from assignment 1 (see below). You may also construct other features, such n-grams or keyword extractions. Feel free to use any other features you feel may be relevant. \n",
    "Evaluate the decision tree model on your pre-processed data.\n",
    "Randomly select 80% data instances as training, and the remaining 20% data instances as validation. Change the parameter setting on criterion (“gini”, “entropy”}. Draw a figure showing the training error and validation error w.r.t. different parameter values\n",
    "Evaluate the decision tree using 5-fold cross-validation. Draw a figure showing the average training error and average validation error w.r.t. different parameter values. The parameters you should tune include: criterion, min_samples_leaf, and max_features (as int). We recommend Google Colab and scikit-learn package (see the example codes on Schedule page).\n",
    "\n",
    "Evaluate random forests model on pre-processed training data.\n",
    "Describe your parameter setting. \n",
    "Use 5-fold cross-validation to evaluate the performance w.r.t. the number of trees (n_estimators). \n",
    "Report the average accuracy and standard deviation for different parameter values (organize the results in a table).\n",
    "Draw a figure showing the result.\n",
    "\n",
    "Evaluate XGBoost on pre-processed training data.\n",
    "Describe your parameter setting. \n",
    "Use 5-fold cross-validation to evaluate the performance w.r.t. eta (the learning rate). \n",
    "Report the average accuracy and standard deviation for different parameter values (organize the results in a table).\n",
    "Draw a figure showing the result.\n",
    "\n",
    "Predict the labels for the testing data (using raw training data and raw testing data).  \n",
    "Describe how you pre-process the data to generate features. \n",
    "Describe how you choose the model and parameters.  \n",
    "Describe the performance of your chosen model and parameter on the training data.\n",
    "The final classification models to be used in this question are limited to decision tree, random forest, and boosting trees. It is OK to use other models to do feature engineering (e.g., using neural nets for word embedding).  \n",
    "\n",
    "Note that this question will be graded based on your accuracy. You should try to think of better features and try different models and parameters in order to get a higher accuracy.\n",
    " "
   ]
  },
  {
   "cell_type": "code",
   "execution_count": null,
   "metadata": {},
   "outputs": [],
   "source": [
    "import os\n",
    "import sys\n",
    "import pandas as pd\n",
    "import numpy as np\n",
    "from six.moves import urllib \n",
    "import string \n",
    "import nltk \n",
    "from nltk.corpus import stopwords \n",
    "from nltk.stem.porter import * \n",
    "from tqdm import tqdm\n",
    "from matplotlib import pyplot as plt\n",
    "tokenizer = nltk.data.load('tokenizers/punkt/english.pickle')\n",
    "URL = 'https://wikispaces.psu.edu/download/attachments/395383213/news-train.csv?api=v2'\n",
    "LOCAL_FOLDER = 'datasets'\n",
    "NEWS_TRAIN = 'news_train.csv'\n",
    "NEWS_PATH = os.path.join(LOCAL_FOLDER, NEWS_TRAIN)\n",
    "os.makedirs(LOCAL_FOLDER, exist_ok = True)\n",
    "urllib.request.urlretrieve(URL, NEWS_TRAIN)\n",
    "def load_news_train(news_path=NEWS_PATH):\n",
    "    csv_path = os.path.join(news_path)\n",
    "    return pd.read_csv(csv_path)\n",
    "news_train = load_news_train()"
   ]
  },
  {
   "cell_type": "code",
   "execution_count": 2,
   "metadata": {},
   "outputs": [],
   "source": [
    "URL2 = 'https://wikispaces.psu.edu/download/attachments/395383213/dictionary.txt?api=v2'\n",
    "LOCAL_FOLDER = 'datasets'\n",
    "DICTIONARY = 'dictionary.txt'\n",
    "DICTIONARY_PATH = os.path.join(LOCAL_FOLDER, DICTIONARY)\n",
    "os.makedirs(LOCAL_FOLDER, exist_ok=True)\n",
    "urllib.request.urlretrieve(URL2, DICTIONARY_PATH)\n",
    "def open_dictionary(dictionary_path=DICTIONARY_PATH):\n",
    "    csv_path = os.path.join(dictionary_path)\n",
    "    return pd.read_csv(csv_path)\n",
    "dictionary = open_dictionary()"
   ]
  },
  {
   "cell_type": "code",
   "execution_count": 3,
   "metadata": {},
   "outputs": [],
   "source": [
    "URL3 = 'https://wikispaces.psu.edu/download/attachments/395383213/news-test.csv?api=v2'\n",
    "LOCAL_FOLDER = 'datasets'\n",
    "UNLABELED = 'unlabeled.csv'\n",
    "UNLABELED_PATH = os.path.join(LOCAL_FOLDER, UNLABELED)\n",
    "os.makedirs(LOCAL_FOLDER, exist_ok=True)\n",
    "urllib.request.urlretrieve(URL3,UNLABELED_PATH)\n",
    "def open_unlabeled(unlabeled=UNLABELED_PATH):\n",
    "    csv_path = os.path.join(unlabeled)\n",
    "    return pd.read_csv(csv_path)\n",
    "news_test = open_unlabeled()"
   ]
  },
  {
   "cell_type": "code",
   "execution_count": 4,
   "metadata": {},
   "outputs": [],
   "source": [
    "def load_data(file):\n",
    "    with open(file, 'r') as f:\n",
    "        lines = f.readlines()\n",
    "\n",
    "    return lines\n",
    "news_data = load_data('datasets/news_train.csv')"
   ]
  },
  {
   "cell_type": "code",
   "execution_count": 5,
   "metadata": {},
   "outputs": [
    {
     "name": "stderr",
     "output_type": "stream",
     "text": [
      "[nltk_data] Downloading package punkt to /Users/anon/nltk_data...\n",
      "[nltk_data]   Package punkt is already up-to-date!\n",
      "[nltk_data] Downloading package stopwords to /Users/anon/nltk_data...\n",
      "[nltk_data]   Package stopwords is already up-to-date!\n"
     ]
    }
   ],
   "source": [
    "import string\n",
    "import nltk\n",
    "nltk.download('punkt')\n",
    "nltk.download('stopwords')\n",
    "from nltk.corpus import stopwords\n",
    "from nltk.stem.porter import *\n",
    "\n",
    "# stemming tool from nltk\n",
    "stemmer = PorterStemmer()\n",
    "# a mapping dictionary that help remove punctuations\n",
    "remove_punctuation_map = dict((ord(char), None) for char in string.punctuation)\n",
    "\n",
    "def get_tokens(text):\n",
    "    # turn document into lowercase\n",
    "    lowers = text.lower()\n",
    "    # remove punctuation\n",
    "    no_punctuation = lowers.translate(remove_punctuation_map)\n",
    "    # tokenize document\n",
    "    tokens = nltk.word_tokenize(no_punctuation)\n",
    "    # stop words\n",
    "    filtered = [w for w in tokens if not w in stopwords.words(\"english\")]\n",
    "    # stemming process\n",
    "    stemmed = []\n",
    "    for item in filtered:\n",
    "        stemmed.append(stemmer.stem(item))\n",
    "\n",
    "    return stemmed"
   ]
  },
  {
   "cell_type": "code",
   "execution_count": 6,
   "metadata": {},
   "outputs": [],
   "source": [
    "import numpy as np\n",
    "\n",
    "\n",
    "def get_dict(fpath):\n",
    "    dictionary = {}\n",
    "\n",
    "\n",
    "    with open(fpath, \"r\") as f:\n",
    "        for i, word in enumerate(f):\n",
    "            dictionary[word.strip()] = i\n",
    "\n",
    "    return dictionary\n",
    "\n",
    "\n",
    "def get_doc_tf(word_set, dictionary):\n",
    "    n_words = len(dictionary)\n",
    "    tf_vec = np.zeros(n_words)\n",
    "\n",
    "    max_cnt = 0\n",
    "    for word in word_set:\n",
    "        idx = dictionary[word]\n",
    "        tf_vec[idx] += 1.0\n",
    "\n",
    "        if tf_vec[idx] > max_cnt:\n",
    "            max_cnt = tf_vec[idx]\n",
    "\n",
    "    return tf_vec / max_cnt\n",
    "\n",
    "\n",
    "\n",
    "def get_tf_idf(tf_dict, df_vec, n_doc, n_words):\n",
    "\n",
    "    tf_idf_mtx = np.zeros((n_doc, n_words))\n",
    "    idf = np.log(n_doc / df_vec)\n",
    "\n",
    "    for doc_idx, tf_vec in tf_dict.items():\n",
    "        tf_idf = tf_dict[doc_idx]*idf\n",
    "\n",
    "        tf_idf_mtx[doc_idx, :] = tf_idf\n",
    "\n",
    "    return tf_idf_mtx\n",
    "\n",
    "\n",
    "def write(d, fpath):\n",
    "\n",
    "    with open(fpath, \"w\") as f:\n",
    "\n",
    "        for k, v in d.items():\n",
    "\n",
    "            f.write(f\"{k}\\n\")\n",
    "\n",
    "\n",
    "def filter_top_k(counter_sorted, limit):\n",
    "    top_k = {}\n",
    "\n",
    "    for i, k in enumerate(counter_sorted.keys()):\n",
    "        if i == limit:\n",
    "            break\n",
    "        top_k[k] = counter_sorted[k]\n",
    "\n",
    "    return top_k"
   ]
  },
  {
   "cell_type": "code",
   "execution_count": 7,
   "metadata": {},
   "outputs": [],
   "source": [
    "def tfidf_main(fpath, dictionary):\n",
    "\n",
    "\n",
    "    n_words = len(dictionary)\n",
    "    tf = {}\n",
    "    doc_freq = np.zeros(n_words)\n",
    "\n",
    "    with open(fpath, 'r') as f:\n",
    "\n",
    "        lines = f.readlines()\n",
    "        n_doc = len(lines) - 1\n",
    "\n",
    "        for i, line in tqdm(enumerate(lines), total=n_doc+1):\n",
    "            if i == 0:\n",
    "                continue\n",
    "\n",
    "            doc_idx = i - 1\n",
    "\n",
    "            id, txt, cat = line.split(\",\")\n",
    "            cat = cat.strip()\n",
    "            tokens = get_tokens(txt)\n",
    "\n",
    "            filtered = []\n",
    "            filtered_unique = set()\n",
    "            for word in tokens:\n",
    "                if word in dictionary:\n",
    "                    filtered.append(word)\n",
    "                    filtered_unique.add(word)\n",
    "\n",
    "            # get term frequency\n",
    "            tf_vec = get_doc_tf(filtered, dictionary)\n",
    "            tf[doc_idx] = tf_vec\n",
    "\n",
    "            # get doc frequency:\n",
    "            for word in filtered_unique:\n",
    "                idx = dictionary[word]\n",
    "                doc_freq[idx] += 1\n",
    "\n",
    "\n",
    "    tfidf_mtx = get_tf_idf(tf, doc_freq, n_doc, n_words)\n",
    "\n",
    "\n",
    "    return tfidf_mtx"
   ]
  },
  {
   "cell_type": "code",
   "execution_count": 8,
   "metadata": {},
   "outputs": [],
   "source": [
    "def tfidf2(fpath, dictionary):\n",
    "\n",
    "\n",
    "    n_words = len(dictionary)\n",
    "    tf = {}\n",
    "    doc_freq = np.zeros(n_words)\n",
    "\n",
    "    with open(fpath, 'r') as f:\n",
    "\n",
    "        lines = f.readlines()\n",
    "        n_doc = len(lines) - 1\n",
    "\n",
    "        for i, line in tqdm(enumerate(lines), total=n_doc+1):\n",
    "            if i == 0:\n",
    "                continue\n",
    "\n",
    "            doc_idx = i - 1\n",
    "\n",
    "            id, txt = line.split(\",\")\n",
    "            tokens = get_tokens(txt)\n",
    "\n",
    "            filtered = []\n",
    "            filtered_unique = set()\n",
    "            for word in tokens:\n",
    "                if word in dictionary:\n",
    "                    filtered.append(word)\n",
    "                    filtered_unique.add(word)\n",
    "\n",
    "            # get term frequency\n",
    "            tf_vec = get_doc_tf(filtered, dictionary)\n",
    "            tf[doc_idx] = tf_vec\n",
    "\n",
    "            # get doc frequency:\n",
    "            for word in filtered_unique:\n",
    "                idx = dictionary[word]\n",
    "                doc_freq[idx] += 1\n",
    "\n",
    "\n",
    "    tfidf_mtx = get_tf_idf(tf, doc_freq, n_doc, n_words)\n",
    "\n",
    "\n",
    "    return tfidf_mtx"
   ]
  },
  {
   "cell_type": "code",
   "execution_count": 9,
   "metadata": {},
   "outputs": [
    {
     "name": "stderr",
     "output_type": "stream",
     "text": [
      "100%|██████████| 1491/1491 [01:02<00:00, 23.82it/s]\n"
     ]
    }
   ],
   "source": [
    "dictionary = get_dict(DICTIONARY_PATH)\n",
    "tfidf = tfidf_main(NEWS_PATH, dictionary)\n",
    "np.savetxt(\"datasets/tfidf.txt\", tfidf,  fmt='%.4f', delimiter=\",\")"
   ]
  },
  {
   "cell_type": "code",
   "execution_count": 10,
   "metadata": {},
   "outputs": [],
   "source": [
    "def frequency_main(limit, fpath, dictionary):\n",
    "\n",
    "\n",
    "\n",
    "    with open(fpath, 'r') as f:\n",
    "\n",
    "        lines = f.readlines()\n",
    "        n_doc = len(lines)\n",
    "\n",
    "        stratifed_cntr = {\n",
    "                        \"sport\": {},\n",
    "                        \"business\": {},\n",
    "                        \"politics\": {},\n",
    "                        \"entertainment\": {},\n",
    "                        \"tech\": {}\n",
    "                    }\n",
    "\n",
    "\n",
    "        for i, line in tqdm(enumerate(lines), total=n_doc + 1):\n",
    "            if i == 0:\n",
    "                continue\n",
    "\n",
    "            id, txt, cat = line.split(\",\")\n",
    "            cat = cat.strip()\n",
    "            tokens = get_tokens(txt)\n",
    "\n",
    "            for t in tokens:\n",
    "                if t not in dictionary:\n",
    "                    continue\n",
    "\n",
    "                if t not in stratifed_cntr[cat]:\n",
    "                    stratifed_cntr[cat][t] = 0\n",
    "\n",
    "                stratifed_cntr[cat][t] += 1\n",
    "\n",
    "        stratifed_sorted = {}\n",
    "        for cat, cnts in stratifed_cntr.items():\n",
    "            stratifed_sorted[cat] = {k: v for k, v in sorted(cnts.items(), key=lambda item: item[1], reverse=True)}\n",
    "\n",
    "\n",
    "        stratified_output = {}\n",
    "        for cat, cnts in stratifed_sorted.items():\n",
    "            stratified_output[cat] = filter_top_k(cnts, limit)\n",
    "\n",
    "    return stratified_output"
   ]
  },
  {
   "cell_type": "code",
   "execution_count": 11,
   "metadata": {},
   "outputs": [
    {
     "name": "stderr",
     "output_type": "stream",
     "text": [
      "100%|█████████▉| 1491/1492 [01:05<00:00, 22.64it/s]\n"
     ]
    }
   ],
   "source": [
    "counts = frequency_main(limit=50, fpath=NEWS_PATH, dictionary=dictionary)"
   ]
  },
  {
   "cell_type": "code",
   "execution_count": 12,
   "metadata": {},
   "outputs": [
    {
     "data": {
      "text/plain": [
       "{'sport': {'said': 635,\n",
       "  'game': 482,\n",
       "  'win': 419,\n",
       "  'play': 416,\n",
       "  'england': 327,\n",
       "  'first': 323,\n",
       "  'player': 308,\n",
       "  'year': 296,\n",
       "  'time': 270,\n",
       "  'world': 266,\n",
       "  'last': 258,\n",
       "  'two': 253,\n",
       "  'back': 243,\n",
       "  'one': 241,\n",
       "  'would': 233,\n",
       "  'match': 228,\n",
       "  'go': 223,\n",
       "  'side': 218,\n",
       "  'also': 214,\n",
       "  'cup': 206,\n",
       "  'second': 204,\n",
       "  'open': 203,\n",
       "  'team': 203,\n",
       "  'new': 198,\n",
       "  'take': 197,\n",
       "  'champion': 196,\n",
       "  'ireland': 194,\n",
       "  'final': 190,\n",
       "  'get': 184,\n",
       "  'wale': 183,\n",
       "  'good': 180,\n",
       "  'coach': 176,\n",
       "  'could': 171,\n",
       "  'six': 169,\n",
       "  'start': 168,\n",
       "  'club': 167,\n",
       "  'nation': 166,\n",
       "  'minut': 164,\n",
       "  'season': 164,\n",
       "  'like': 162,\n",
       "  'three': 161,\n",
       "  'make': 159,\n",
       "  'franc': 158,\n",
       "  'set': 158,\n",
       "  'tri': 158,\n",
       "  'chelsea': 157,\n",
       "  'injuri': 155,\n",
       "  'week': 152,\n",
       "  'made': 148,\n",
       "  'want': 146},\n",
       " 'business': {'said': 1100,\n",
       "  'year': 574,\n",
       "  'us': 511,\n",
       "  'mr': 394,\n",
       "  'compani': 392,\n",
       "  'firm': 374,\n",
       "  'market': 352,\n",
       "  'would': 308,\n",
       "  'bank': 281,\n",
       "  'also': 279,\n",
       "  'sale': 276,\n",
       "  'new': 273,\n",
       "  'growth': 257,\n",
       "  'economi': 251,\n",
       "  'share': 251,\n",
       "  'last': 237,\n",
       "  'govern': 237,\n",
       "  'countri': 229,\n",
       "  'price': 228,\n",
       "  'rate': 220,\n",
       "  'econom': 216,\n",
       "  'expect': 211,\n",
       "  'month': 204,\n",
       "  'busi': 198,\n",
       "  'could': 198,\n",
       "  '2004': 198,\n",
       "  'profit': 185,\n",
       "  'may': 182,\n",
       "  'say': 179,\n",
       "  'oil': 179,\n",
       "  'analyst': 178,\n",
       "  'report': 176,\n",
       "  'trade': 175,\n",
       "  'rise': 175,\n",
       "  '000': 173,\n",
       "  'one': 170,\n",
       "  'world': 169,\n",
       "  'deal': 168,\n",
       "  'howev': 165,\n",
       "  'increas': 156,\n",
       "  'chief': 154,\n",
       "  'dollar': 152,\n",
       "  'two': 151,\n",
       "  'time': 147,\n",
       "  'invest': 144,\n",
       "  'tax': 143,\n",
       "  'uk': 142,\n",
       "  'financi': 141,\n",
       "  'euro': 141,\n",
       "  'plan': 141},\n",
       " 'politics': {'said': 1445,\n",
       "  'mr': 1100,\n",
       "  'would': 710,\n",
       "  'labour': 488,\n",
       "  'govern': 479,\n",
       "  'elect': 477,\n",
       "  'parti': 449,\n",
       "  'say': 443,\n",
       "  'blair': 390,\n",
       "  'peopl': 372,\n",
       "  'minist': 371,\n",
       "  'plan': 335,\n",
       "  'tori': 325,\n",
       "  'also': 308,\n",
       "  'new': 280,\n",
       "  'could': 272,\n",
       "  'brown': 264,\n",
       "  'tax': 251,\n",
       "  'year': 250,\n",
       "  'uk': 248,\n",
       "  'lord': 224,\n",
       "  'told': 219,\n",
       "  'public': 218,\n",
       "  'howard': 197,\n",
       "  'prime': 194,\n",
       "  'gener': 189,\n",
       "  'countri': 188,\n",
       "  'leader': 187,\n",
       "  'campaign': 187,\n",
       "  'want': 182,\n",
       "  'britain': 182,\n",
       "  'make': 182,\n",
       "  'claim': 181,\n",
       "  'time': 180,\n",
       "  'mp': 178,\n",
       "  'secretari': 178,\n",
       "  'work': 177,\n",
       "  'issu': 175,\n",
       "  'one': 174,\n",
       "  'law': 165,\n",
       "  'home': 164,\n",
       "  'vote': 161,\n",
       "  'get': 160,\n",
       "  'go': 157,\n",
       "  'chancellor': 157,\n",
       "  'need': 156,\n",
       "  'polit': 156,\n",
       "  'next': 152,\n",
       "  'polic': 152,\n",
       "  'chang': 150},\n",
       " 'entertainment': {'film': 706,\n",
       "  'said': 594,\n",
       "  'best': 404,\n",
       "  'year': 392,\n",
       "  'award': 341,\n",
       "  'music': 336,\n",
       "  'star': 319,\n",
       "  'show': 283,\n",
       "  'also': 277,\n",
       "  'one': 267,\n",
       "  'us': 259,\n",
       "  'new': 234,\n",
       "  'includ': 231,\n",
       "  'actor': 204,\n",
       "  'first': 184,\n",
       "  'band': 179,\n",
       "  'top': 175,\n",
       "  'play': 173,\n",
       "  'number': 171,\n",
       "  'uk': 169,\n",
       "  'director': 165,\n",
       "  'last': 164,\n",
       "  'nomin': 158,\n",
       "  'mr': 154,\n",
       "  'record': 147,\n",
       "  'time': 145,\n",
       "  'two': 144,\n",
       "  'perform': 142,\n",
       "  'oscar': 142,\n",
       "  'take': 141,\n",
       "  'album': 141,\n",
       "  'tv': 139,\n",
       "  'would': 138,\n",
       "  'go': 134,\n",
       "  'chart': 133,\n",
       "  'british': 130,\n",
       "  'peopl': 128,\n",
       "  'bbc': 125,\n",
       "  'make': 124,\n",
       "  'work': 121,\n",
       "  'three': 121,\n",
       "  'song': 121,\n",
       "  'releas': 120,\n",
       "  'actress': 120,\n",
       "  'festiv': 114,\n",
       "  'singer': 113,\n",
       "  'singl': 112,\n",
       "  'movi': 111,\n",
       "  'day': 108,\n",
       "  'like': 108},\n",
       " 'tech': {'said': 1064,\n",
       "  'use': 662,\n",
       "  'peopl': 646,\n",
       "  'game': 470,\n",
       "  'mobil': 421,\n",
       "  'phone': 395,\n",
       "  'technolog': 389,\n",
       "  'servic': 369,\n",
       "  'mr': 350,\n",
       "  'new': 349,\n",
       "  'also': 348,\n",
       "  'year': 341,\n",
       "  'one': 338,\n",
       "  'would': 322,\n",
       "  'could': 308,\n",
       "  'user': 300,\n",
       "  'make': 296,\n",
       "  'like': 284,\n",
       "  'comput': 279,\n",
       "  'net': 269,\n",
       "  'firm': 265,\n",
       "  'softwar': 265,\n",
       "  'music': 257,\n",
       "  'get': 256,\n",
       "  'digit': 249,\n",
       "  'work': 240,\n",
       "  'mani': 236,\n",
       "  'us': 235,\n",
       "  'time': 223,\n",
       "  'way': 219,\n",
       "  'system': 215,\n",
       "  'say': 211,\n",
       "  'million': 209,\n",
       "  'number': 202,\n",
       "  'pc': 202,\n",
       "  'site': 201,\n",
       "  'network': 199,\n",
       "  'go': 198,\n",
       "  'consum': 198,\n",
       "  'compani': 198,\n",
       "  'microsoft': 195,\n",
       "  'world': 194,\n",
       "  'onlin': 191,\n",
       "  'player': 191,\n",
       "  'show': 188,\n",
       "  'uk': 187,\n",
       "  'take': 184,\n",
       "  'help': 179,\n",
       "  'first': 179,\n",
       "  'tv': 178}}"
      ]
     },
     "execution_count": 12,
     "metadata": {},
     "output_type": "execute_result"
    }
   ],
   "source": [
    "counts"
   ]
  },
  {
   "cell_type": "code",
   "execution_count": 13,
   "metadata": {},
   "outputs": [],
   "source": [
    "def mean_tfidf_main(trn_fpath, tfidf_fpath, dictionary, k):\n",
    "\n",
    "    idx_to_word = {}\n",
    "    for key, val in dictionary.items():\n",
    "        idx_to_word[val] = key\n",
    "\n",
    "    with open(trn_fpath, 'r') as f:\n",
    "\n",
    "        lines = f.readlines()\n",
    "        n_doc = len(lines) - 1\n",
    "        cats = np.zeros((n_doc, 1), dtype=object)\n",
    "\n",
    "        for i, line in tqdm(enumerate(lines), total=n_doc + 1):\n",
    "            if i == 0:\n",
    "                continue\n",
    "\n",
    "            doc_idx = i - 1\n",
    "            id, txt, cat = line.split(\",\")\n",
    "            cat = cat.strip()\n",
    "\n",
    "            cats[doc_idx, 0] = cat\n",
    "\n",
    "        tfidf = np.loadtxt(tfidf_fpath, delimiter=\",\")\n",
    "\n",
    "        df = pd.DataFrame(np.concatenate([cats, tfidf], axis=1))\n",
    "\n",
    "        groups = df.groupby(0)\n",
    "\n",
    "        output = {}\n",
    "\n",
    "        for cat, chunk in groups:\n",
    "\n",
    "            mean = chunk.values[:, 1:].mean(axis=0)\n",
    "\n",
    "            word_idx = np.argsort(mean)\n",
    "            s = np.sort(mean)\n",
    "            top_k = word_idx[-k:]\n",
    "\n",
    "            output[cat] = {}\n",
    "            for idx in top_k:\n",
    "                word = idx_to_word[idx]\n",
    "                score = mean[idx]\n",
    "                #record = {\"word\": word, \"score\": score}\n",
    "                output[cat][word] = score\n",
    "\n",
    "\n",
    "    return output"
   ]
  },
  {
   "cell_type": "code",
   "execution_count": 14,
   "metadata": {},
   "outputs": [
    {
     "name": "stderr",
     "output_type": "stream",
     "text": [
      "100%|██████████| 1491/1491 [00:00<00:00, 494481.48it/s]\n"
     ]
    }
   ],
   "source": [
    "avg_tfidf = mean_tfidf_main(NEWS_PATH, \"datasets/tfidf.txt\", dictionary, k=1490)"
   ]
  },
  {
   "cell_type": "code",
   "execution_count": 15,
   "metadata": {},
   "outputs": [
    {
     "data": {
      "text/plain": [
       "dict_keys(['business', 'entertainment', 'politics', 'sport', 'tech'])"
      ]
     },
     "execution_count": 15,
     "metadata": {},
     "output_type": "execute_result"
    }
   ],
   "source": [
    "avg_tfidf.keys()"
   ]
  },
  {
   "cell_type": "code",
   "execution_count": 16,
   "metadata": {},
   "outputs": [
    {
     "data": {
      "text/plain": [
       "(1490, 2)"
      ]
     },
     "execution_count": 16,
     "metadata": {},
     "output_type": "execute_result"
    }
   ],
   "source": [
    "df = news_train[['Text', 'Category']]\n",
    "df.shape"
   ]
  },
  {
   "cell_type": "code",
   "execution_count": 17,
   "metadata": {},
   "outputs": [],
   "source": [
    "def encode_and_add_column (data, column, new_column):\n",
    "    from sklearn.preprocessing import OrdinalEncoder\n",
    "    ordinal_encoder = OrdinalEncoder()\n",
    "    encoded_column = ordinal_encoder.fit_transform(data[[column]])\n",
    "    data[new_column] = encoded_column\n",
    "def clean_column(string):\n",
    "    string = string.lower()\n",
    "    return string"
   ]
  },
  {
   "cell_type": "code",
   "execution_count": 18,
   "metadata": {},
   "outputs": [],
   "source": [
    "encode_and_add_column(df, 'Category', 'Category_Id')\n",
    "cleaned_columns = []\n",
    "for column in df.columns:\n",
    "    clean_columns = clean_column(column)\n",
    "    cleaned_columns.append(clean_columns)\n",
    "df_clean = df.copy()\n",
    "df_clean.columns = cleaned_columns"
   ]
  },
  {
   "cell_type": "code",
   "execution_count": 19,
   "metadata": {},
   "outputs": [
    {
     "data": {
      "text/html": [
       "<div>\n",
       "<style scoped>\n",
       "    .dataframe tbody tr th:only-of-type {\n",
       "        vertical-align: middle;\n",
       "    }\n",
       "\n",
       "    .dataframe tbody tr th {\n",
       "        vertical-align: top;\n",
       "    }\n",
       "\n",
       "    .dataframe thead th {\n",
       "        text-align: right;\n",
       "    }\n",
       "</style>\n",
       "<table border=\"1\" class=\"dataframe\">\n",
       "  <thead>\n",
       "    <tr style=\"text-align: right;\">\n",
       "      <th></th>\n",
       "      <th>text</th>\n",
       "      <th>category</th>\n",
       "      <th>category_id</th>\n",
       "    </tr>\n",
       "  </thead>\n",
       "  <tbody>\n",
       "    <tr>\n",
       "      <th>0</th>\n",
       "      <td>worldcom ex-boss launches defence lawyers defe...</td>\n",
       "      <td>business</td>\n",
       "      <td>0.0</td>\n",
       "    </tr>\n",
       "    <tr>\n",
       "      <th>1</th>\n",
       "      <td>german business confidence slides german busin...</td>\n",
       "      <td>business</td>\n",
       "      <td>0.0</td>\n",
       "    </tr>\n",
       "    <tr>\n",
       "      <th>2</th>\n",
       "      <td>bbc poll indicates economic gloom citizens in ...</td>\n",
       "      <td>business</td>\n",
       "      <td>0.0</td>\n",
       "    </tr>\n",
       "    <tr>\n",
       "      <th>3</th>\n",
       "      <td>lifestyle  governs mobile choice  faster  bett...</td>\n",
       "      <td>tech</td>\n",
       "      <td>4.0</td>\n",
       "    </tr>\n",
       "    <tr>\n",
       "      <th>4</th>\n",
       "      <td>enron bosses in $168m payout eighteen former e...</td>\n",
       "      <td>business</td>\n",
       "      <td>0.0</td>\n",
       "    </tr>\n",
       "    <tr>\n",
       "      <th>...</th>\n",
       "      <td>...</td>\n",
       "      <td>...</td>\n",
       "      <td>...</td>\n",
       "    </tr>\n",
       "    <tr>\n",
       "      <th>1485</th>\n",
       "      <td>double eviction from big brother model caprice...</td>\n",
       "      <td>entertainment</td>\n",
       "      <td>1.0</td>\n",
       "    </tr>\n",
       "    <tr>\n",
       "      <th>1486</th>\n",
       "      <td>dj double act revamp chart show dj duo jk and ...</td>\n",
       "      <td>entertainment</td>\n",
       "      <td>1.0</td>\n",
       "    </tr>\n",
       "    <tr>\n",
       "      <th>1487</th>\n",
       "      <td>weak dollar hits reuters revenues at media gro...</td>\n",
       "      <td>business</td>\n",
       "      <td>0.0</td>\n",
       "    </tr>\n",
       "    <tr>\n",
       "      <th>1488</th>\n",
       "      <td>apple ipod family expands market apple has exp...</td>\n",
       "      <td>tech</td>\n",
       "      <td>4.0</td>\n",
       "    </tr>\n",
       "    <tr>\n",
       "      <th>1489</th>\n",
       "      <td>santy worm makes unwelcome visit thousands of ...</td>\n",
       "      <td>tech</td>\n",
       "      <td>4.0</td>\n",
       "    </tr>\n",
       "  </tbody>\n",
       "</table>\n",
       "<p>1490 rows × 3 columns</p>\n",
       "</div>"
      ],
      "text/plain": [
       "                                                   text       category  \\\n",
       "0     worldcom ex-boss launches defence lawyers defe...       business   \n",
       "1     german business confidence slides german busin...       business   \n",
       "2     bbc poll indicates economic gloom citizens in ...       business   \n",
       "3     lifestyle  governs mobile choice  faster  bett...           tech   \n",
       "4     enron bosses in $168m payout eighteen former e...       business   \n",
       "...                                                 ...            ...   \n",
       "1485  double eviction from big brother model caprice...  entertainment   \n",
       "1486  dj double act revamp chart show dj duo jk and ...  entertainment   \n",
       "1487  weak dollar hits reuters revenues at media gro...       business   \n",
       "1488  apple ipod family expands market apple has exp...           tech   \n",
       "1489  santy worm makes unwelcome visit thousands of ...           tech   \n",
       "\n",
       "      category_id  \n",
       "0             0.0  \n",
       "1             0.0  \n",
       "2             0.0  \n",
       "3             4.0  \n",
       "4             0.0  \n",
       "...           ...  \n",
       "1485          1.0  \n",
       "1486          1.0  \n",
       "1487          0.0  \n",
       "1488          4.0  \n",
       "1489          4.0  \n",
       "\n",
       "[1490 rows x 3 columns]"
      ]
     },
     "execution_count": 19,
     "metadata": {},
     "output_type": "execute_result"
    }
   ],
   "source": [
    "df_clean"
   ]
  },
  {
   "cell_type": "code",
   "execution_count": 20,
   "metadata": {},
   "outputs": [
    {
     "data": {
      "text/plain": [
       "{0.0: 'business',\n",
       " 4.0: 'tech',\n",
       " 2.0: 'politics',\n",
       " 3.0: 'sport',\n",
       " 1.0: 'entertainment'}"
      ]
     },
     "execution_count": 20,
     "metadata": {},
     "output_type": "execute_result"
    }
   ],
   "source": [
    "categories_id = df_clean[['category', 'category_id']].drop_duplicates()\n",
    "category_dict = dict(zip(categories_id.category_id, categories_id.category))\n",
    "category_dict"
   ]
  },
  {
   "cell_type": "code",
   "execution_count": 21,
   "metadata": {},
   "outputs": [],
   "source": [
    "prepared_df = df_clean.copy()\n",
    "prepared_df.drop('category', axis=1, inplace=True)\n",
    "prepared_df.set_index('category_id', inplace=True)\n",
    "prepared_dict = dict(zip(prepared_df.index, prepared_df.text))"
   ]
  },
  {
   "cell_type": "code",
   "execution_count": 22,
   "metadata": {},
   "outputs": [
    {
     "data": {
      "text/plain": [
       "{'text': category_id\n",
       " 0.0    worldcom ex-boss launches defence lawyers defe...\n",
       " 0.0    german business confidence slides german busin...\n",
       " 0.0    bbc poll indicates economic gloom citizens in ...\n",
       " 4.0    lifestyle  governs mobile choice  faster  bett...\n",
       " 0.0    enron bosses in $168m payout eighteen former e...\n",
       "                              ...                        \n",
       " 1.0    double eviction from big brother model caprice...\n",
       " 1.0    dj double act revamp chart show dj duo jk and ...\n",
       " 0.0    weak dollar hits reuters revenues at media gro...\n",
       " 4.0    apple ipod family expands market apple has exp...\n",
       " 4.0    santy worm makes unwelcome visit thousands of ...\n",
       " Name: text, Length: 1490, dtype: object}"
      ]
     },
     "execution_count": 22,
     "metadata": {},
     "output_type": "execute_result"
    }
   ],
   "source": [
    "dictionary = dict(prepared_df)\n",
    "dictionary"
   ]
  },
  {
   "cell_type": "code",
   "execution_count": 23,
   "metadata": {},
   "outputs": [],
   "source": [
    "categories = dict(categories_id.values)"
   ]
  },
  {
   "cell_type": "code",
   "execution_count": 24,
   "metadata": {},
   "outputs": [
    {
     "data": {
      "text/plain": [
       "0       worldcom ex-boss launches defence lawyers defe...\n",
       "1       german business confidence slides german busin...\n",
       "2       bbc poll indicates economic gloom citizens in ...\n",
       "3       lifestyle  governs mobile choice  faster  bett...\n",
       "4       enron bosses in $168m payout eighteen former e...\n",
       "                              ...                        \n",
       "1485    double eviction from big brother model caprice...\n",
       "1486    dj double act revamp chart show dj duo jk and ...\n",
       "1487    weak dollar hits reuters revenues at media gro...\n",
       "1488    apple ipod family expands market apple has exp...\n",
       "1489    santy worm makes unwelcome visit thousands of ...\n",
       "Name: text, Length: 1490, dtype: object"
      ]
     },
     "execution_count": 24,
     "metadata": {},
     "output_type": "execute_result"
    }
   ],
   "source": [
    "df_clean['category_id']\n",
    "df_clean['text']"
   ]
  },
  {
   "cell_type": "code",
   "execution_count": 25,
   "metadata": {},
   "outputs": [
    {
     "name": "stdout",
     "output_type": "stream",
     "text": [
      "Each of the 1490 complaints is represented by 9927 features (TF-IDF score of unigrams and bigrams)\n"
     ]
    }
   ],
   "source": [
    "from sklearn.feature_extraction.text import TfidfVectorizer\n",
    "from sklearn.feature_selection import chi2\n",
    "\n",
    "tfidf = TfidfVectorizer(sublinear_tf=True, min_df=5,\n",
    "                       ngram_range=(1,2), stop_words = 'english')\n",
    "\n",
    "\n",
    "features = tfidf.fit_transform(prepared_df.text).toarray()\n",
    "\n",
    "labels = df_clean.category_id\n",
    "\n",
    "print(\"Each of the %d complaints is represented by %d features (TF-IDF score of unigrams and bigrams)\" %(features.shape))"
   ]
  },
  {
   "cell_type": "code",
   "execution_count": 26,
   "metadata": {},
   "outputs": [
    {
     "name": "stdout",
     "output_type": "stream",
     "text": [
      "\n",
      "==> business:\n",
      "  * Most Correlated Unigrams are: growth, bank, shares\n",
      "  * Most Correlated Bigrams are: stock market, economic growth, analysts said\n",
      "\n",
      "==> entertainment:\n",
      "  * Most Correlated Unigrams are: singer, actor, film\n",
      "  * Most Correlated Bigrams are: won best, los angeles, box office\n",
      "\n",
      "==> politics:\n",
      "  * Most Correlated Unigrams are: blair, election, labour\n",
      "  * Most Correlated Bigrams are: prime minister, tony blair, mr blair\n",
      "\n",
      "==> sport:\n",
      "  * Most Correlated Unigrams are: match, coach, cup\n",
      "  * Most Correlated Bigrams are: grand slam, champions league, australian open\n",
      "\n",
      "==> tech:\n",
      "  * Most Correlated Unigrams are: technology, software, users\n",
      "  * Most Correlated Bigrams are: anti virus, mobile phones, mobile phone\n"
     ]
    }
   ],
   "source": [
    "N = 3\n",
    "for index, category_id in sorted(categories.items()):\n",
    "    features_chi2 = chi2(features, labels == category_id)\n",
    "    indices = np.argsort(features_chi2[0])\n",
    "    feature_names = np.array(tfidf.get_feature_names())[indices]\n",
    "    unigrams = [v for v in feature_names if len(v.split(' ')) == 1]\n",
    "    bigrams = [v for v in feature_names if len(v.split(' ')) == 2]\n",
    "    print(\"\\n==> %s:\" %(index))\n",
    "    print(\"  * Most Correlated Unigrams are: %s\" %(', '.join(unigrams[-N:])))\n",
    "    print(\"  * Most Correlated Bigrams are: %s\" %(', '.join(bigrams[-N:])))"
   ]
  },
  {
   "cell_type": "code",
   "execution_count": 27,
   "metadata": {},
   "outputs": [],
   "source": [
    "from sklearn.model_selection import train_test_split\n",
    "X = prepared_df['text']\n",
    "y = df_clean['category']\n",
    "\n",
    "\n",
    "train_val_data, test_data, train_val_y, test_y = train_test_split(X, y, test_size=0.2, random_state=42)"
   ]
  },
  {
   "cell_type": "code",
   "execution_count": 28,
   "metadata": {},
   "outputs": [
    {
     "data": {
      "text/plain": [
       "735"
      ]
     },
     "execution_count": 28,
     "metadata": {},
     "output_type": "execute_result"
    }
   ],
   "source": [
    "len(news_test['Text'])"
   ]
  },
  {
   "cell_type": "code",
   "execution_count": 29,
   "metadata": {},
   "outputs": [
    {
     "name": "stdout",
     "output_type": "stream",
     "text": [
      "(1192, 22591)\n",
      "(298, 22591)\n",
      "(735, 22591)\n"
     ]
    }
   ],
   "source": [
    "##########################\n",
    "from sklearn.feature_extraction.text import CountVectorizer\n",
    "vectorizer = CountVectorizer()\n",
    "train_val_X = vectorizer.fit_transform(train_val_data)\n",
    "test_X = vectorizer.transform(test_data)\n",
    "testing = vectorizer.transform(news_test['Text'])\n",
    "##########################\n",
    "\n",
    "print(train_val_X.shape)\n",
    "print(test_X.shape)\n",
    "print(testing.shape)"
   ]
  },
  {
   "cell_type": "code",
   "execution_count": 30,
   "metadata": {},
   "outputs": [],
   "source": [
    "from xgboost import XGBClassifier\n",
    "from sklearn.tree import DecisionTreeClassifier\n",
    "from sklearn.ensemble import RandomForestClassifier\n",
    "from sklearn.model_selection import KFold\n",
    "from sklearn import metrics\n",
    "from sklearn.model_selection import cross_val_score\n",
    "from sklearn.model_selection import KFold\n",
    "\n",
    "\n",
    "\n",
    "dtc = DecisionTreeClassifier()\n",
    "dtc_1 = DecisionTreeClassifier(min_samples_leaf = 2, max_features=5000, max_depth = 125)\n",
    "dtc_ent = DecisionTreeClassifier(criterion='entropy', max_depth = 50)\n",
    "dtc_ent_1 = DecisionTreeClassifier(max_depth = 150, criterion='entropy', min_samples_leaf = 5, max_features=7500)\n",
    "xgb = XGBClassifier()"
   ]
  },
  {
   "cell_type": "code",
   "execution_count": 31,
   "metadata": {},
   "outputs": [
    {
     "data": {
      "text/plain": [
       "DecisionTreeClassifier()"
      ]
     },
     "execution_count": 31,
     "metadata": {},
     "output_type": "execute_result"
    }
   ],
   "source": [
    "#training DecisionTree models with different parameter settings\n",
    "dtc.fit(train_val_X, train_val_y) #gini"
   ]
  },
  {
   "cell_type": "code",
   "execution_count": 32,
   "metadata": {},
   "outputs": [
    {
     "data": {
      "text/plain": [
       "DecisionTreeClassifier(max_depth=125, max_features=5000, min_samples_leaf=2)"
      ]
     },
     "execution_count": 32,
     "metadata": {},
     "output_type": "execute_result"
    }
   ],
   "source": [
    "dtc_1.fit(train_val_X, train_val_y) #gini, min_samples_leaf=4, max_features=20"
   ]
  },
  {
   "cell_type": "code",
   "execution_count": 33,
   "metadata": {},
   "outputs": [
    {
     "data": {
      "text/plain": [
       "DecisionTreeClassifier(criterion='entropy', max_depth=50)"
      ]
     },
     "execution_count": 33,
     "metadata": {},
     "output_type": "execute_result"
    }
   ],
   "source": [
    "dtc_ent.fit(train_val_X, train_val_y) #entropy"
   ]
  },
  {
   "cell_type": "code",
   "execution_count": 34,
   "metadata": {},
   "outputs": [],
   "source": [
    "dtc_train_predictions = dtc.predict(test_X)"
   ]
  },
  {
   "cell_type": "code",
   "execution_count": 35,
   "metadata": {},
   "outputs": [
    {
     "data": {
      "text/plain": [
       "DecisionTreeClassifier(criterion='entropy', max_depth=150, max_features=7500,\n",
       "                       min_samples_leaf=5)"
      ]
     },
     "execution_count": 35,
     "metadata": {},
     "output_type": "execute_result"
    }
   ],
   "source": [
    "dtc_ent_1.fit(train_val_X, train_val_y) #entropy, min_samples_leaf = 2, max_features=20"
   ]
  },
  {
   "cell_type": "code",
   "execution_count": 36,
   "metadata": {},
   "outputs": [
    {
     "name": "stdout",
     "output_type": "stream",
     "text": [
      "[0.80334728 0.74476987 0.76470588 0.78571429 0.7394958 ]\n",
      "[0.73221757 0.73640167 0.78991597 0.73109244 0.76470588]\n",
      "[0.76150628 0.73640167 0.75210084 0.78571429 0.73109244]\n",
      "[0.76150628 0.68200837 0.68907563 0.70588235 0.71848739]\n"
     ]
    }
   ],
   "source": [
    "dtc_scores = cross_val_score(dtc, train_val_X, train_val_y, cv=5)\n",
    "print(dtc_scores)\n",
    "dtc_1_scores = cross_val_score(dtc_1, train_val_X, train_val_y, cv=5)\n",
    "print(dtc_1_scores)\n",
    "dtc_ent_scores = cross_val_score(dtc_ent, train_val_X, train_val_y, cv=5)\n",
    "print(dtc_ent_scores)\n",
    "dtc_ent_1_scores = cross_val_score(dtc_ent_1, train_val_X, train_val_y, cv=5)\n",
    "print(dtc_ent_1_scores)"
   ]
  },
  {
   "cell_type": "code",
   "execution_count": 37,
   "metadata": {},
   "outputs": [
    {
     "data": {
      "text/plain": [
       "<matplotlib.legend.Legend at 0x7fc1f775f430>"
      ]
     },
     "execution_count": 37,
     "metadata": {},
     "output_type": "execute_result"
    },
    {
     "data": {
      "image/png": "[encoded data removed]",
      "text/plain": [
       "<Figure size 432x288 with 1 Axes>"
      ]
     },
     "metadata": {
      "needs_background": "light"
     },
     "output_type": "display_data"
    }
   ],
   "source": [
    "plt.plot(dtc_scores, marker = '.', label='DTC')\n",
    "plt.plot(dtc_1_scores, marker='.', label='DTC_1')\n",
    "plt.plot(dtc_ent_scores, marker='.', label='DTC_ENT')\n",
    "plt.plot(dtc_ent_1_scores, marker='.', label='DTC_ENT_1')\n",
    "plt.xlabel('Folds')\n",
    "plt.ylabel('Score')\n",
    "plt.legend()"
   ]
  },
  {
   "cell_type": "code",
   "execution_count": 38,
   "metadata": {},
   "outputs": [
    {
     "data": {
      "image/png": "[encoded data removed]",
      "text/plain": [
       "<Figure size 432x288 with 1 Axes>"
      ]
     },
     "metadata": {
      "needs_background": "light"
     },
     "output_type": "display_data"
    },
    {
     "data": {
      "image/png": "[encoded data removed]",
      "text/plain": [
       "<Figure size 432x288 with 1 Axes>"
      ]
     },
     "metadata": {
      "needs_background": "light"
     },
     "output_type": "display_data"
    },
    {
     "data": {
      "image/png": "[encoded data removed]",
      "text/plain": [
       "<Figure size 432x288 with 1 Axes>"
      ]
     },
     "metadata": {
      "needs_background": "light"
     },
     "output_type": "display_data"
    }
   ],
   "source": [
    "from sklearn.model_selection import validation_curve\n",
    "param_range = np.arange(1, 100, 2)\n",
    "train_scores, test_scores = validation_curve(RandomForestClassifier(),X = train_val_X, y = train_val_y,param_name = 'n_estimators',\n",
    "                                                 param_range =param_range, cv = 5,scoring=\"accuracy\", \n",
    "                                             n_jobs=-1)\n",
    "train_mean = np.mean(train_scores, axis=1)\n",
    "train_std = np.std(train_scores, axis=1)\n",
    "test_mean = np.mean(test_scores, axis=1)\n",
    "test_std = np.std(test_scores, axis=1)\n",
    "plt.plot(param_range, train_mean, label=\"Training score\", color=\"blue\")\n",
    "plt.plot(param_range, test_mean, label=\"Cross-validation score\", color=\"red\")\n",
    "plt.title(\"Validation Curve With Random Forest\")\n",
    "plt.xlabel(\"Number Of Trees\")\n",
    "plt.ylabel(\"Accuracy Score\")\n",
    "plt.tight_layout()\n",
    "plt.legend(loc=\"best\")\n",
    "plt.show()\n",
    "\n",
    "\n",
    "#validation curve with different parameters; n_estimators=200\n",
    "param_range2 = np.arange(1, 200, 2)\n",
    "train_scores2, test_scores2 = validation_curve(RandomForestClassifier(n_estimators=200),X = train_val_X, y = train_val_y,param_name = 'n_estimators',\n",
    "                                                 param_range =param_range2, cv = 5,scoring=\"accuracy\", \n",
    "                                             n_jobs=-1)\n",
    "train_mean2 = np.mean(train_scores2, axis=1)\n",
    "train_std2 = np.std(train_scores2, axis=1)\n",
    "test_mean2 = np.mean(test_scores2, axis=1)\n",
    "test_std2 = np.std(test_scores2, axis=1)\n",
    "plt.plot(param_range2, train_mean2, label=\"Training score\", color=\"blue\")\n",
    "plt.plot(param_range2, test_mean2, label=\"Cross-validation score\", color=\"red\")\n",
    "plt.title(\"Validation Curve With Random Forest\")\n",
    "plt.xlabel(\"Number Of Trees\")\n",
    "plt.ylabel(\"Accuracy Score\")\n",
    "plt.tight_layout()\n",
    "plt.legend(loc=\"best\")\n",
    "plt.show()\n",
    "\n",
    "param_range3 = np.arange(1, 300, 2)\n",
    "train_scores3, test_scores3 = validation_curve(RandomForestClassifier(n_estimators=300),X = train_val_X, y = train_val_y,param_name = 'n_estimators',\n",
    "                                                 param_range =param_range3, cv = 5,scoring=\"accuracy\", \n",
    "                                             n_jobs=-1)\n",
    "train_mean3 = np.mean(train_scores3, axis=1)\n",
    "train_std3 = np.std(train_scores3, axis=1)\n",
    "test_mean3 = np.mean(test_scores3, axis=1)\n",
    "test_std3 = np.std(test_scores3, axis=1)\n",
    "plt.plot(param_range3, train_mean3, label=\"Training score\", color=\"blue\")\n",
    "plt.plot(param_range3, test_mean3, label=\"Cross-validation score\", color=\"red\")\n",
    "plt.title(\"Validation Curve With Random Forest\")\n",
    "plt.xlabel(\"Number Of Trees\")\n",
    "plt.ylabel(\"Accuracy Score\")\n",
    "plt.tight_layout()\n",
    "plt.legend(loc=\"best\")\n",
    "plt.show()"
   ]
  },
  {
   "cell_type": "code",
   "execution_count": 39,
   "metadata": {},
   "outputs": [
    {
     "data": {
      "text/html": [
       "<div>\n",
       "<style scoped>\n",
       "    .dataframe tbody tr th:only-of-type {\n",
       "        vertical-align: middle;\n",
       "    }\n",
       "\n",
       "    .dataframe tbody tr th {\n",
       "        vertical-align: top;\n",
       "    }\n",
       "\n",
       "    .dataframe thead th {\n",
       "        text-align: right;\n",
       "    }\n",
       "</style>\n",
       "<table border=\"1\" class=\"dataframe\">\n",
       "  <thead>\n",
       "    <tr style=\"text-align: right;\">\n",
       "      <th></th>\n",
       "      <th>n_estimators</th>\n",
       "      <th>average_accuracy</th>\n",
       "      <th>standard_deviation</th>\n",
       "    </tr>\n",
       "  </thead>\n",
       "  <tbody>\n",
       "    <tr>\n",
       "      <th>0</th>\n",
       "      <td>100.0</td>\n",
       "      <td>94.880630</td>\n",
       "      <td>0.013423</td>\n",
       "    </tr>\n",
       "    <tr>\n",
       "      <th>1</th>\n",
       "      <td>200.0</td>\n",
       "      <td>94.712563</td>\n",
       "      <td>0.014010</td>\n",
       "    </tr>\n",
       "    <tr>\n",
       "      <th>2</th>\n",
       "      <td>300.0</td>\n",
       "      <td>94.041349</td>\n",
       "      <td>0.014705</td>\n",
       "    </tr>\n",
       "    <tr>\n",
       "      <th>3</th>\n",
       "      <td>400.0</td>\n",
       "      <td>94.460110</td>\n",
       "      <td>0.018712</td>\n",
       "    </tr>\n",
       "    <tr>\n",
       "      <th>4</th>\n",
       "      <td>500.0</td>\n",
       "      <td>94.544847</td>\n",
       "      <td>0.016407</td>\n",
       "    </tr>\n",
       "  </tbody>\n",
       "</table>\n",
       "</div>"
      ],
      "text/plain": [
       "   n_estimators  average_accuracy  standard_deviation\n",
       "0         100.0         94.880630            0.013423\n",
       "1         200.0         94.712563            0.014010\n",
       "2         300.0         94.041349            0.014705\n",
       "3         400.0         94.460110            0.018712\n",
       "4         500.0         94.544847            0.016407"
      ]
     },
     "execution_count": 39,
     "metadata": {},
     "output_type": "execute_result"
    }
   ],
   "source": [
    "rf_scores = cross_val_score(RandomForestClassifier(), train_val_X, train_val_y,\n",
    "                            scoring = 'accuracy', cv=5)\n",
    "rf_scores2 = cross_val_score(RandomForestClassifier(n_estimators=200), train_val_X, train_val_y,\n",
    "                            scoring = 'accuracy', cv=5)\n",
    "rf_scores3 = cross_val_score(RandomForestClassifier(n_estimators=300), train_val_X, train_val_y,\n",
    "                            scoring = 'accuracy', cv=5)\n",
    "rf_scores4 = cross_val_score(RandomForestClassifier(n_estimators=400), train_val_X, train_val_y,\n",
    "                            scoring = 'accuracy', cv=5)\n",
    "rf_scores5 = cross_val_score(RandomForestClassifier(n_estimators=500), train_val_X, train_val_y,\n",
    "                            scoring = 'accuracy', cv=5)\n",
    "rf_std = rf_scores.std()\n",
    "rf_acc = rf_scores.mean()*100\n",
    "rf_std2 = rf_scores2.std()\n",
    "rf_acc2 = rf_scores2.mean()*100\n",
    "rf_std3 = rf_scores3.std()\n",
    "rf_acc3= rf_scores3.mean()*100\n",
    "rf_std4 = rf_scores4.std()\n",
    "rf_acc4 = rf_scores4.mean()*100\n",
    "rf_std5 = rf_scores5.std()\n",
    "rf_acc5 = rf_scores5.mean()*100\n",
    "rf_0 = pd.Series([100,rf_acc, rf_std])\n",
    "rf_1 = pd.Series([200,rf_acc2, rf_std2])\n",
    "rf_2 = pd.Series([300,rf_acc3, rf_std3])\n",
    "rf_3 = pd.Series([400,rf_acc4, rf_std4])\n",
    "rf_4 = pd.Series([500,rf_acc5, rf_std5])\n",
    "#parameter tuning results\n",
    "random_forest_results = pd.DataFrame([list(rf_0),list(rf_1), list(rf_2), list(rf_3),list(rf_4)],\n",
    "                                     columns = ['n_estimators', 'average_accuracy', 'standard_deviation'])\n",
    "random_forest_results"
   ]
  },
  {
   "cell_type": "code",
   "execution_count": 40,
   "metadata": {},
   "outputs": [
    {
     "data": {
      "text/html": [
       "<div>\n",
       "<style scoped>\n",
       "    .dataframe tbody tr th:only-of-type {\n",
       "        vertical-align: middle;\n",
       "    }\n",
       "\n",
       "    .dataframe tbody tr th {\n",
       "        vertical-align: top;\n",
       "    }\n",
       "\n",
       "    .dataframe thead th {\n",
       "        text-align: right;\n",
       "    }\n",
       "</style>\n",
       "<table border=\"1\" class=\"dataframe\">\n",
       "  <thead>\n",
       "    <tr style=\"text-align: right;\">\n",
       "      <th></th>\n",
       "      <th>learning_rate</th>\n",
       "      <th>average_accuracy</th>\n",
       "      <th>standard_deviation</th>\n",
       "    </tr>\n",
       "  </thead>\n",
       "  <tbody>\n",
       "    <tr>\n",
       "      <th>0</th>\n",
       "      <td>1.00</td>\n",
       "      <td>94.880630</td>\n",
       "      <td>0.013423</td>\n",
       "    </tr>\n",
       "    <tr>\n",
       "      <th>1</th>\n",
       "      <td>0.10</td>\n",
       "      <td>94.712563</td>\n",
       "      <td>0.014010</td>\n",
       "    </tr>\n",
       "    <tr>\n",
       "      <th>2</th>\n",
       "      <td>0.01</td>\n",
       "      <td>94.041349</td>\n",
       "      <td>0.014705</td>\n",
       "    </tr>\n",
       "  </tbody>\n",
       "</table>\n",
       "</div>"
      ],
      "text/plain": [
       "   learning_rate  average_accuracy  standard_deviation\n",
       "0           1.00         94.880630            0.013423\n",
       "1           0.10         94.712563            0.014010\n",
       "2           0.01         94.041349            0.014705"
      ]
     },
     "execution_count": 40,
     "metadata": {},
     "output_type": "execute_result"
    }
   ],
   "source": [
    "xgb_scores = cross_val_score(XGBClassifier(),train_val_X, train_val_y, scoring = 'accuracy', \n",
    "                             cv=5)\n",
    "xgb_scores2 = cross_val_score(XGBClassifier(learning_rate=1),train_val_X, train_val_y, scoring = 'accuracy', \n",
    "                             cv=5)\n",
    "xgb_scores3 = cross_val_score(XGBClassifier(learning_rate=0.1),train_val_X, train_val_y, scoring = 'accuracy', \n",
    "                             cv=5)\n",
    "xgb_scores4 = cross_val_score(XGBClassifier(learning_rate=0.01),train_val_X, train_val_y, scoring = 'accuracy', \n",
    "                             cv=5)\n",
    "\n",
    "\n",
    "xgb_std = xgb_scores.std()\n",
    "xgb_acc = xgb_scores.mean()*100\n",
    "xgb_std2 = xgb_scores2.std()\n",
    "xgb_acc2= xgb_scores2.mean()*100\n",
    "xgb_std3= xgb_scores3.std()\n",
    "xgb_acc3= xgb_scores3.mean()*100\n",
    "xgb_std4= xgb_scores4.std()\n",
    "xgb_acc4= xgb_scores4.mean()*100\n",
    "\n",
    "rf_acc5 = rf_scores5.mean()*100\n",
    "rf_0 = pd.Series([1,rf_acc, rf_std])\n",
    "rf_1 = pd.Series([0.1,rf_acc2, rf_std2])\n",
    "rf_2 = pd.Series([0.01,rf_acc3, rf_std3])\n",
    "#parameter tuning results\n",
    "xgb_results = pd.DataFrame([list(rf_0),list(rf_1), list(rf_2)],\n",
    "                           columns = ['learning_rate', 'average_accuracy', 'standard_deviation'])\n",
    "xgb_results"
   ]
  },
  {
   "cell_type": "code",
   "execution_count": 41,
   "metadata": {},
   "outputs": [
    {
     "data": {
      "text/plain": [
       "XGBClassifier(base_score=None, booster=None, colsample_bylevel=None,\n",
       "              colsample_bynode=None, colsample_bytree=None, gamma=None,\n",
       "              gpu_id=None, importance_type='gain', interaction_constraints=None,\n",
       "              learning_rate=None, max_delta_step=None, max_depth=None,\n",
       "              min_child_weight=None, missing=nan, monotone_constraints=None,\n",
       "              n_estimators=100, n_jobs=None, num_parallel_tree=None,\n",
       "              random_state=None, reg_alpha=None, reg_lambda=None,\n",
       "              scale_pos_weight=None, subsample=None, tree_method=None,\n",
       "              validate_parameters=None, verbosity=None)"
      ]
     },
     "execution_count": 41,
     "metadata": {},
     "output_type": "execute_result"
    }
   ],
   "source": [
    "XGBClassifier()"
   ]
  },
  {
   "cell_type": "code",
   "execution_count": 100,
   "metadata": {},
   "outputs": [
    {
     "data": {
      "image/png": "[encoded data removed]",
      "text/plain": [
       "<Figure size 432x288 with 1 Axes>"
      ]
     },
     "metadata": {
      "needs_background": "light"
     },
     "output_type": "display_data"
    }
   ],
   "source": [
    "plt.plot(xgb_scores, label='XGB1',color=\"blue\")\n",
    "plt.plot(xgb_scores2, label='XGB2', color=\"red\")\n",
    "plt.plot(xgb_scores3, label ='XGB3',color=\"green\")\n",
    "#plt.plot(xgb_scores4, label = 'XGB3', color='black')\n",
    "plt.title(\"Validation Curve With XGBoost\")\n",
    "plt.ylabel(\"Accuracy Score\")\n",
    "plt.xlabel('Folds')\n",
    "plt.tight_layout()\n",
    "plt.legend(loc=\"best\")\n",
    "plt.show()"
   ]
  },
  {
   "cell_type": "code",
   "execution_count": 43,
   "metadata": {},
   "outputs": [],
   "source": [
    "from sklearn.model_selection import train_test_split\n",
    "testing_X = news_test['Text']\n",
    "testing_y = df_clean['category_id'] \n",
    "\n",
    "from sklearn.model_selection import train_test_split\n",
    "X = prepared_df['text']\n",
    "y = df_clean['category_id']\n",
    "\n",
    "\n",
    "train, test, y_train, y_test = train_test_split(X,y,test_size=0.2, random_state=42)\n",
    "\n",
    "val_X = vectorizer.fit_transform(train)\n",
    "X_test = vectorizer.transform(test)\n",
    "#testing = vectorizer.transform(news_test['Text'])\n",
    "\n",
    "\n",
    "rf = RandomForestClassifier(n_estimators=300, min_samples_leaf=4, max_depth=1000,max_features=1500,\n",
    "                                n_jobs=-1,)\n",
    "rf1= RandomForestClassifier(n_estimators=300, min_samples_leaf=4, max_depth=5000,n_jobs=-1)\n",
    "rf2= RandomForestClassifier(n_estimators=300, min_samples_leaf=2,n_jobs=-1,)\n",
    "rf3= RandomForestClassifier(min_samples_leaf=4,n_jobs=-1)\n",
    "rf4 = RandomForestClassifier()"
   ]
  },
  {
   "cell_type": "code",
   "execution_count": 44,
   "metadata": {},
   "outputs": [],
   "source": [
    "def display_scores(scores):\n",
    "    print(\"Scores:\", scores)\n",
    "    print('Mean:', scores.mean())\n",
    "    print('Standard Deviation:', scores.std())"
   ]
  },
  {
   "cell_type": "code",
   "execution_count": 45,
   "metadata": {},
   "outputs": [
    {
     "name": "stdout",
     "output_type": "stream",
     "text": [
      "Scores: [0.958159   0.92468619 0.89495798 0.93277311 0.91176471]\n",
      "Mean: 0.9244681973207693\n",
      "Standard Deviation: 0.021148618960811116\n",
      "Scores: [0.9832636  0.94560669 0.93277311 0.92857143 0.94117647]\n",
      "Mean: 0.9462782602580783\n",
      "Standard Deviation: 0.01944384469515686\n",
      "Scores: [0.9790795  0.94979079 0.93277311 0.94957983 0.94957983]\n",
      "Mean: 0.9521606131992547\n",
      "Standard Deviation: 0.014962877837329852\n",
      "Scores: [0.958159   0.93723849 0.90756303 0.94117647 0.93277311]\n",
      "Mean: 0.9353820189163532\n",
      "Standard Deviation: 0.01634940773288522\n",
      "Scores: [0.9665272  0.93305439 0.92016807 0.92857143 0.92436975]\n",
      "Mean: 0.9345381667311277\n",
      "Standard Deviation: 0.016558973908269128\n"
     ]
    }
   ],
   "source": [
    "s = cross_val_score(rf, val_X, y_train, scoring='accuracy', cv=5)\n",
    "s2 = cross_val_score(rf1, val_X, y_train, scoring='accuracy', cv=5)\n",
    "s3 = cross_val_score(rf2, val_X, y_train, scoring='accuracy', cv=5)\n",
    "s4 = cross_val_score(rf3, val_X, y_train, scoring='accuracy', cv=5)\n",
    "s5 = cross_val_score(rf4, val_X, y_train, scoring='accuracy', cv=5)\n",
    "display_scores(s)\n",
    "display_scores(s2)\n",
    "display_scores(s3)\n",
    "display_scores(s4)\n",
    "display_scores(s5)"
   ]
  },
  {
   "cell_type": "code",
   "execution_count": 64,
   "metadata": {},
   "outputs": [],
   "source": [
    "#feature engineering for predicting the labels of the test data\n",
    "\n",
    "from sklearn.model_selection import train_test_split\n",
    "from sklearn.preprocessing import LabelEncoder\n",
    "from sklearn.feature_extraction.text import CountVectorizer\n",
    "\n",
    "train_x, valid_x, train_y, valid_y = train_test_split(news_train['Text'], news_train['Category'], test_size=0.2)\n",
    "encoder = LabelEncoder()\n",
    "train_y = encoder.fit_transform(train_y)\n",
    "valid_y = encoder.fit_transform(valid_y)"
   ]
  },
  {
   "cell_type": "code",
   "execution_count": 65,
   "metadata": {},
   "outputs": [],
   "source": [
    "# create a count vectorizer object \n",
    "count_vect = CountVectorizer(analyzer='word', token_pattern=r'\\w{1,}')\n",
    "count_vect.fit(news_train['Text'])\n",
    "\n",
    "# transform the training and validation data using count vectorizer object\n",
    "xtrain_count =  count_vect.transform(train_x)\n",
    "xvalid_count =  count_vect.transform(valid_x)\n",
    "testing = count_vect.transform(news_test['Text'])"
   ]
  },
  {
   "cell_type": "code",
   "execution_count": 66,
   "metadata": {},
   "outputs": [
    {
     "name": "stderr",
     "output_type": "stream",
     "text": [
      "/Users/anon/opt/miniconda3/lib/python3.8/site-packages/sklearn/feature_extraction/text.py:501: UserWarning: The parameter 'token_pattern' will not be used since 'analyzer' != 'word'\n",
      "  warnings.warn(\"The parameter 'token_pattern' will not be used\"\n"
     ]
    }
   ],
   "source": [
    "from sklearn.feature_extraction.text import TfidfVectorizer\n",
    "\n",
    "# word level tf-idf\n",
    "tfidf_vect = TfidfVectorizer(analyzer='word', token_pattern=r'\\w{1,}', max_features=5000)\n",
    "tfidf_vect.fit(news_train['Text'])\n",
    "xtrain_tfidf =  tfidf_vect.transform(train_x)\n",
    "xvalid_tfidf =  tfidf_vect.transform(valid_x)\n",
    "testing_tfidf = tfidf_vect.transform(news_test['Text'])\n",
    "\n",
    "# ngram level tf-idf \n",
    "tfidf_vect_ngram = TfidfVectorizer(analyzer='word', token_pattern=r'\\w{1,}', ngram_range=(2,3), max_features=5000)\n",
    "tfidf_vect_ngram.fit(news_train['Text'])\n",
    "xtrain_tfidf_ngram =  tfidf_vect_ngram.transform(train_x)\n",
    "xvalid_tfidf_ngram =  tfidf_vect_ngram.transform(valid_x)\n",
    "testing_tfidf_ngram = tfidf_vect_ngram.transform(news_test['Text'])\n",
    "\n",
    "# characters level tf-idf\n",
    "tfidf_vect_ngram_chars = TfidfVectorizer(analyzer='char', token_pattern=r'\\w{1,}', ngram_range=(2,3), max_features=5000)\n",
    "tfidf_vect_ngram_chars.fit(news_train['Text'])\n",
    "xtrain_tfidf_ngram_chars =  tfidf_vect_ngram_chars.transform(train_x) \n",
    "xvalid_tfidf_ngram_chars =  tfidf_vect_ngram_chars.transform(valid_x)\n",
    "testing_tfidf_ngram_chars = tfidf_vect_ngram_chars.transform(news_test['Text'])"
   ]
  },
  {
   "cell_type": "code",
   "execution_count": 67,
   "metadata": {},
   "outputs": [
    {
     "name": "stdout",
     "output_type": "stream",
     "text": [
      "Scores: [0.67364017 0.66527197 0.60504202 0.61344538 0.58823529]\n",
      "Mean: 0.6291269645933688\n",
      "Standard Deviation: 0.03401767764918422\n"
     ]
    }
   ],
   "source": [
    "from sklearn.model_selection import cross_val_score\n",
    "from sklearn.metrics import accuracy_score\n",
    "dtc_score = cross_val_score(dtc, xtrain_tfidf_ngram, train_y, cv=5, scoring='accuracy')\n",
    "def display_scores(scores):\n",
    "    print(\"Scores:\", scores)\n",
    "    print('Mean:', scores.mean())\n",
    "    print('Standard Deviation:', scores.std())\n",
    "display_scores(dtc_score)"
   ]
  },
  {
   "cell_type": "code",
   "execution_count": 68,
   "metadata": {},
   "outputs": [],
   "source": [
    "def train_model(classifier, feature_vector_train, label, feature_vector_valid):\n",
    "    classifier.fit(feature_vector_train, label)\n",
    "    predictions = classifier.predict(feature_vector_valid)\n",
    "    return accuracy_score(predictions, valid_y)"
   ]
  },
  {
   "cell_type": "code",
   "execution_count": 73,
   "metadata": {},
   "outputs": [
    {
     "name": "stdout",
     "output_type": "stream",
     "text": [
      "RF, WordLevel TF-IDF:  0.7416107382550335\n",
      "RF, WordLevel TF-IDF:  0.7416107382550335\n",
      "RF, WordLevel TF-IDF:  0.7416107382550335\n",
      "RF, WordLevel TF-IDF:  0.7416107382550335\n",
      "RF, WordLevel TF-IDF:  0.7416107382550335\n"
     ]
    }
   ],
   "source": [
    "dt_accuracy1 = train_model(DecisionTreeClassifier(criterion='gini'), xtrain_tfidf, train_y, xvalid_tfidf)\n",
    "print(\"RF, WordLevel TF-IDF: \", dt_accuracy1)\n",
    "dt_accuracy2 = train_model(DecisionTreeClassifier(), xtrain_tfidf, train_y, xvalid_tfidf)\n",
    "print(\"RF, WordLevel TF-IDF: \", dt_accuracy2)\n",
    "dt_accuracy3 = train_model(DecisionTreeClassifier(), xtrain_tfidf, train_y, xvalid_tfidf)\n",
    "print(\"RF, WordLevel TF-IDF: \", dt_accuracy3)\n"
   ]
  },
  {
   "cell_type": "code",
   "execution_count": 89,
   "metadata": {},
   "outputs": [
    {
     "name": "stdout",
     "output_type": "stream",
     "text": [
      "Depth:  10\n",
      "Training accuracy:  100.0 %\n",
      "Validation accuracy:  71.14131008051757 %\n",
      "Depth:  25\n",
      "Training accuracy:  100.0 %\n",
      "Validation accuracy:  70.88850603002707 %\n",
      "Depth:  50\n",
      "Training accuracy:  100.0 %\n",
      "Validation accuracy:  70.30273197144966 %\n",
      "Depth:  75\n",
      "Training accuracy:  100.0 %\n",
      "Validation accuracy:  71.13990366020886 %\n",
      "Depth:  100\n",
      "Training accuracy:  100.0 %\n",
      "Validation accuracy:  71.05622165184066 %\n",
      "Depth:  125\n",
      "Training accuracy:  100.0 %\n",
      "Validation accuracy:  71.47498329875883 %\n",
      "Depth:  150\n",
      "Training accuracy:  100.0 %\n",
      "Validation accuracy:  71.30761928202244 %\n"
     ]
    },
    {
     "data": {
      "text/plain": [
       "<matplotlib.legend.Legend at 0x7fc1ee0305e0>"
      ]
     },
     "execution_count": 89,
     "metadata": {},
     "output_type": "execute_result"
    },
    {
     "data": {
      "image/png": "[encoded data removed]",
      "text/plain": [
       "<Figure size 432x288 with 1 Axes>"
      ]
     },
     "metadata": {
      "needs_background": "light"
     },
     "output_type": "display_data"
    }
   ],
   "source": [
    "def dtc_parameter_tune(xtrain_tfidf, train_y):\n",
    "    depths = [10, 25, 50, 75, 100, 125, 150]\n",
    "    train_acc_all = []\n",
    "    val_acc_all = []\n",
    "\n",
    "    kf = KFold(n_splits = 5)\n",
    "    for depth in depths:\n",
    "        train_acc = []\n",
    "        val_acc = []\n",
    "        for train_index, val_index in kf.split(train_val_X):\n",
    "            ##########################\n",
    "            train_X = xtrain_tfidf[train_index,:]\n",
    "            val_X = xtrain_tfidf[val_index,:]\n",
    "\n",
    "            train_Y = train_y[train_index]\n",
    "            val_y = train_y[val_index]\n",
    "            \n",
    "            dtc = DecisionTreeClassifier(criterion='entropy')\n",
    "            dtc.fit(train_X, train_Y)\n",
    "            train_acc.append(dtc.score(train_X, train_Y))\n",
    "            val_acc.append(dtc.score(val_X, val_y))\n",
    "            ##########################\n",
    "\n",
    "        avg_train_acc = sum(train_acc) / len(train_acc)\n",
    "        avg_val_acc = sum(val_acc) / len(val_acc)\n",
    "        print(\"Depth: \", depth)\n",
    "        print(\"Training accuracy: \", avg_train_acc * 100, \"%\")\n",
    "        print(\"Validation accuracy: \", avg_val_acc * 100, \"%\")\n",
    "\n",
    "        train_acc_all.append(avg_train_acc)\n",
    "        val_acc_all.append(avg_val_acc)\n",
    "\n",
    "    return depths, train_acc_all, val_acc_all\n",
    "\n",
    "depths, train_acc_all, val_acc_all = dtc_parameter_tune(xtrain_tfidf, train_y)\n",
    "\n",
    "# plot training/validation curves\n",
    "plt.plot(depths, train_acc_all, marker='.', label=\"Training accuracy\")\n",
    "plt.plot(depths, val_acc_all, marker='.', label=\"Validation accuracy\")\n",
    "plt.xlabel('Depth of tree')\n",
    "plt.ylabel('Accuracy')\n",
    "plt.legend()"
   ]
  },
  {
   "cell_type": "code",
   "execution_count": 81,
   "metadata": {},
   "outputs": [
    {
     "name": "stdout",
     "output_type": "stream",
     "text": [
      "Depth:  10\n",
      "Training accuracy:  96.51848625437492 %\n",
      "Validation accuracy:  73.65915403818431 %\n",
      "Depth:  25\n",
      "Training accuracy:  96.62324206247071 %\n",
      "Validation accuracy:  70.72325164375373 %\n",
      "Depth:  50\n",
      "Training accuracy:  96.64405243509957 %\n",
      "Validation accuracy:  71.8149854083893 %\n",
      "Depth:  75\n",
      "Training accuracy:  96.97994416836605 %\n",
      "Validation accuracy:  72.31778066875286 %\n",
      "Depth:  100\n",
      "Training accuracy:  96.39259009945421 %\n",
      "Validation accuracy:  71.7313034000211 %\n",
      "Depth:  125\n",
      "Training accuracy:  96.83303965629888 %\n",
      "Validation accuracy:  70.22045638339017 %\n",
      "Depth:  150\n",
      "Training accuracy:  96.5813133412967 %\n",
      "Validation accuracy:  69.21662388804896 %\n"
     ]
    },
    {
     "data": {
      "text/plain": [
       "<matplotlib.legend.Legend at 0x7fc1fadfa1c0>"
      ]
     },
     "execution_count": 81,
     "metadata": {},
     "output_type": "execute_result"
    },
    {
     "data": {
      "image/png": "[encoded data removed]",
      "text/plain": [
       "<Figure size 432x288 with 1 Axes>"
      ]
     },
     "metadata": {
      "needs_background": "light"
     },
     "output_type": "display_data"
    }
   ],
   "source": [
    "def dtc_parameter_tune(xtrain_tfidf, train_y):\n",
    "    depths = [10, 25, 50, 75, 100, 125, 150]\n",
    "    train_acc_all = []\n",
    "    val_acc_all = []\n",
    "\n",
    "    kf = KFold(n_splits = 5)\n",
    "    for depth in depths:\n",
    "        train_acc = []\n",
    "        val_acc = []\n",
    "        for train_index, val_index in kf.split(train_val_X):\n",
    "            ##########################\n",
    "            train_X = xtrain_tfidf[train_index,:]\n",
    "            val_X = xtrain_tfidf[val_index,:]\n",
    "\n",
    "            train_Y = train_y[train_index]\n",
    "            val_y = train_y[val_index]\n",
    "            \n",
    "            dtc = DecisionTreeClassifier(criterion='entropy', max_features = 2000, min_samples_leaf=2)\n",
    "            dtc.fit(train_X, train_Y)\n",
    "            train_acc.append(dtc.score(train_X, train_Y))\n",
    "            val_acc.append(dtc.score(val_X, val_y))\n",
    "            ##########################\n",
    "\n",
    "        avg_train_acc = sum(train_acc) / len(train_acc)\n",
    "        avg_val_acc = sum(val_acc) / len(val_acc)\n",
    "        print(\"Depth: \", depth)\n",
    "        print(\"Training accuracy: \", avg_train_acc * 100, \"%\")\n",
    "        print(\"Validation accuracy: \", avg_val_acc * 100, \"%\")\n",
    "\n",
    "        train_acc_all.append(avg_train_acc)\n",
    "        val_acc_all.append(avg_val_acc)\n",
    "\n",
    "    return depths, train_acc_all, val_acc_all\n",
    "\n",
    "depths, train_acc_all, val_acc_all = dtc_parameter_tune(xtrain_tfidf, train_y)\n",
    "\n",
    "# plot training/validation curves\n",
    "plt.plot(depths, train_acc_all, marker='.', label=\"Training accuracy\")\n",
    "plt.plot(depths, val_acc_all, marker='.', label=\"Validation accuracy\")\n",
    "plt.xlabel('Depth of tree')\n",
    "plt.ylabel('Accuracy')\n",
    "plt.legend()"
   ]
  },
  {
   "cell_type": "code",
   "execution_count": 94,
   "metadata": {},
   "outputs": [
    {
     "name": "stdout",
     "output_type": "stream",
     "text": [
      "Depth:  10\n",
      "Training accuracy:  90.79292799303096 %\n",
      "Validation accuracy:  74.83316339087936 %\n",
      "Depth:  25\n",
      "Training accuracy:  90.58321839232171 %\n",
      "Validation accuracy:  75.16789142435216 %\n",
      "Depth:  50\n",
      "Training accuracy:  90.33116210312355 %\n",
      "Validation accuracy:  74.67072184522344 %\n",
      "Depth:  75\n",
      "Training accuracy:  90.52036930712018 %\n",
      "Validation accuracy:  71.73060018986675 %\n",
      "Depth:  100\n",
      "Training accuracy:  90.3526764207039 %\n",
      "Validation accuracy:  71.05622165184066 %\n",
      "Depth:  125\n",
      "Training accuracy:  90.18476355149028 %\n",
      "Validation accuracy:  73.07232516437537 %\n",
      "Depth:  150\n",
      "Training accuracy:  90.7508452838988 %\n",
      "Validation accuracy:  71.56393938328469 %\n"
     ]
    },
    {
     "data": {
      "text/plain": [
       "<matplotlib.legend.Legend at 0x7fc206827970>"
      ]
     },
     "execution_count": 94,
     "metadata": {},
     "output_type": "execute_result"
    },
    {
     "data": {
      "image/png": "[encoded data removed]",
      "text/plain": [
       "<Figure size 432x288 with 1 Axes>"
      ]
     },
     "metadata": {
      "needs_background": "light"
     },
     "output_type": "display_data"
    }
   ],
   "source": [
    "def dtc_parameter_tune(xtrain_tfidf, train_y):\n",
    "    depths = [10, 25, 50, 75, 100, 125, 150]\n",
    "    train_acc_all = []\n",
    "    val_acc_all = []\n",
    "\n",
    "    kf = KFold(n_splits = 5)\n",
    "    for depth in depths:\n",
    "        train_acc = []\n",
    "        val_acc = []\n",
    "        for train_index, val_index in kf.split(train_val_X):\n",
    "            ##########################\n",
    "            train_X = xtrain_tfidf[train_index,:]\n",
    "            val_X = xtrain_tfidf[val_index,:]\n",
    "\n",
    "            train_Y = train_y[train_index]\n",
    "            val_y = train_y[val_index]\n",
    "            \n",
    "            dtc = DecisionTreeClassifier(max_features = 1000, min_samples_leaf = 4)\n",
    "            dtc.fit(train_X, train_Y)\n",
    "            train_acc.append(dtc.score(train_X, train_Y))\n",
    "            val_acc.append(dtc.score(val_X, val_y))\n",
    "            ##########################\n",
    "\n",
    "        avg_train_acc = sum(train_acc) / len(train_acc)\n",
    "        avg_val_acc = sum(val_acc) / len(val_acc)\n",
    "        print(\"Depth: \", depth)\n",
    "        print(\"Training accuracy: \", avg_train_acc * 100, \"%\")\n",
    "        print(\"Validation accuracy: \", avg_val_acc * 100, \"%\")\n",
    "\n",
    "        train_acc_all.append(avg_train_acc)\n",
    "        val_acc_all.append(avg_val_acc)\n",
    "\n",
    "    return depths, train_acc_all, val_acc_all\n",
    "\n",
    "depths, train_acc_all, val_acc_all = dtc_parameter_tune(xtrain_tfidf, train_y)\n",
    "\n",
    "# plot training/validation curves\n",
    "plt.plot(depths, train_acc_all, marker='.', label=\"Training accuracy\")\n",
    "plt.plot(depths, val_acc_all, marker='.', label=\"Validation accuracy\")\n",
    "plt.xlabel('Depth of tree')\n",
    "plt.ylabel('Accuracy')\n",
    "plt.legend()"
   ]
  },
  {
   "cell_type": "code",
   "execution_count": 113,
   "metadata": {},
   "outputs": [
    {
     "name": "stdout",
     "output_type": "stream",
     "text": [
      "RF, Count Vectors:  0.9630872483221476\n",
      "RF, WordLevel TF-IDF:  0.9530201342281879\n",
      "RF, WordLevel TF-IDF:  0.9563758389261745\n",
      "RF, WordLevel TF-IDF:  0.9463087248322147\n",
      "RF, WordLevel TF-IDF:  0.9496644295302014\n",
      "RF, WordLevel TF-IDF:  0.9429530201342282\n",
      "RF, WordLevel TF-IDF:  0.959731543624161\n"
     ]
    }
   ],
   "source": [
    "# RF on Count Vectors\n",
    "rf_accuracy = train_model(RandomForestClassifier(n_estimators=500), xtrain_count, train_y, xvalid_count)\n",
    "print(\"RF, Count Vectors: \", rf_accuracy)\n",
    "\n",
    "# RF on Word Level TF IDF Vectors\n",
    "rf_accuracy1 = train_model(RandomForestClassifier(), xtrain_tfidf.tocsc(), train_y, xvalid_tfidf)\n",
    "print(\"RF, WordLevel TF-IDF: \", rf_accuracy1)\n",
    "rf_accuracy2 = train_model(RandomForestClassifier(n_estimators=200, min_samples_leaf = 2), xtrain_tfidf, train_y, xvalid_tfidf)\n",
    "print(\"RF, WordLevel TF-IDF: \", rf_accuracy2)\n",
    "rf_accuracy3 = train_model(RandomForestClassifier(n_estimators=300, min_samples_leaf = 2), xtrain_tfidf, train_y, xvalid_tfidf)\n",
    "print(\"RF, WordLevel TF-IDF: \", rf_accuracy3)\n",
    "rf_accuracy4 = train_model(RandomForestClassifier(n_estimators=400, min_samples_leaf=4), xtrain_tfidf, train_y, xvalid_tfidf)\n",
    "print(\"RF, WordLevel TF-IDF: \", rf_accuracy4)\n",
    "rf_accuracy5 = train_model(RandomForestClassifier(n_estimators=500, min_samples_leaf=5), xtrain_tfidf, train_y, xvalid_tfidf)\n",
    "print(\"RF, WordLevel TF-IDF: \", rf_accuracy5)\n",
    "rf_accuracy6 = train_model(RandomForestClassifier(n_estimators=600, min_samples_leaf=2), xtrain_tfidf, train_y, xvalid_tfidf)\n",
    "print(\"RF, WordLevel TF-IDF: \", rf_accuracy6)"
   ]
  },
  {
   "cell_type": "code",
   "execution_count": 114,
   "metadata": {},
   "outputs": [
    {
     "name": "stdout",
     "output_type": "stream",
     "text": [
      "Scores: [0.91213389 0.94979079 0.95378151 0.93697479 0.94957983]\n",
      "Mean: 0.94045216412925\n",
      "Standard Deviation: 0.015246065648726204\n",
      "Scores: [0.92887029 0.94560669 0.94957983 0.94537815 0.96218487]\n",
      "Mean: 0.9463239689181112\n",
      "Standard Deviation: 0.0106602890479645\n",
      "Scores: [0.93723849 0.958159   0.96218487 0.95378151 0.95378151]\n",
      "Mean: 0.9530290777398825\n",
      "Standard Deviation: 0.008492579392860234\n",
      "Scores: [0.94142259 0.94560669 0.95378151 0.94537815 0.94537815]\n",
      "Mean: 0.9463134207657958\n",
      "Standard Deviation: 0.0040482465538793115\n",
      "Scores: [0.94142259 0.94142259 0.97058824 0.95798319 0.95378151]\n",
      "Mean: 0.9530396258921978\n",
      "Standard Deviation: 0.010980471753846952\n",
      "Scores: [0.92050209 0.9539749  0.95378151 0.94537815 0.96218487]\n",
      "Mean: 0.947164305052565\n",
      "Standard Deviation: 0.01435167595914007\n"
     ]
    }
   ],
   "source": [
    "rf1 = RandomForestClassifier()\n",
    "rf2= RandomForestClassifier(n_estimators=200, min_samples_leaf=2)\n",
    "rf3= RandomForestClassifier(n_estimators=300, min_samples_leaf=2)\n",
    "rf4= RandomForestClassifier(n_estimators=400, min_samples_leaf=3)\n",
    "rf5 = RandomForestClassifier(n_estimators=500, min_samples_leaf=4)\n",
    "rf6 = RandomForestClassifier(n_estimators=600, min_samples_leaf=5)\n",
    "\n",
    "\n",
    "\n",
    "rs1 = cross_val_score(rf1, xtrain_tfidf, train_y, scoring='accuracy', cv=5)\n",
    "rs2 = cross_val_score(rf2, xtrain_tfidf, train_y, scoring='accuracy', cv=5)\n",
    "rs3 = cross_val_score(rf3, xtrain_tfidf, train_y, scoring='accuracy', cv=5)\n",
    "rs4 = cross_val_score(rf4, xtrain_tfidf, train_y, scoring='accuracy', cv=5)\n",
    "rs5 = cross_val_score(rf5, xtrain_tfidf, train_y, scoring='accuracy', cv=5)\n",
    "rs6 = cross_val_score(rf6, xtrain_tfidf, train_y, scoring='accuracy', cv=5)\n",
    "display_scores(rs1)\n",
    "display_scores(rs2)\n",
    "display_scores(rs3)\n",
    "display_scores(rs4)\n",
    "display_scores(rs5)\n",
    "display_scores(rs6)"
   ]
  },
  {
   "cell_type": "code",
   "execution_count": 98,
   "metadata": {},
   "outputs": [
    {
     "data": {
      "image/png": "[encoded data removed]",
      "text/plain": [
       "<Figure size 432x288 with 1 Axes>"
      ]
     },
     "metadata": {
      "needs_background": "light"
     },
     "output_type": "display_data"
    },
    {
     "data": {
      "image/png": "[encoded data removed]",
      "text/plain": [
       "<Figure size 432x288 with 1 Axes>"
      ]
     },
     "metadata": {
      "needs_background": "light"
     },
     "output_type": "display_data"
    },
    {
     "data": {
      "image/png": "[encoded data removed]",
      "text/plain": [
       "<Figure size 432x288 with 1 Axes>"
      ]
     },
     "metadata": {
      "needs_background": "light"
     },
     "output_type": "display_data"
    }
   ],
   "source": [
    "from sklearn.model_selection import validation_curve\n",
    "\n",
    "param_range1 = np.arange(1, 100, 2)\n",
    "train_scores1, test_scores1 = validation_curve(rf1,X = xtrain_tfidf, y = train_y,param_name = 'n_estimators',\n",
    "                                                 param_range=param_range1, cv = 5,scoring=\"accuracy\", \n",
    "                                             n_jobs=-1)\n",
    "train_mean1 = np.mean(train_scores1, axis=1)\n",
    "train_std1 = np.std(train_scores1, axis=1)\n",
    "test_mean1 = np.mean(test_scores1, axis=1)\n",
    "test_std1 = np.std(test_scores1, axis=1)\n",
    "plt.plot(param_range1, train_mean1, label=\"Training score\", color=\"blue\")\n",
    "plt.plot(param_range1, test_mean1, label=\"Validation score\", color=\"red\")\n",
    "plt.title(\"Validation Curve With Random Forest\")\n",
    "plt.xlabel(\"Number Of Trees\")\n",
    "plt.ylabel(\"Accuracy Score\")\n",
    "plt.tight_layout()\n",
    "plt.legend(loc=\"best\")\n",
    "plt.show()\n",
    "\n",
    "param_range2 = np.arange(1, 200, 2)\n",
    "train_scores2, test_scores2 = validation_curve(rf2,X = xtrain_tfidf, y = train_y,param_name = 'n_estimators',\n",
    "                                                 param_range=param_range2, cv = 5,scoring=\"accuracy\", \n",
    "                                             n_jobs=-1)\n",
    "train_mean2 = np.mean(train_scores2, axis=1)\n",
    "train_std2 = np.std(train_scores2, axis=1)\n",
    "test_mean2 = np.mean(test_scores2, axis=1)\n",
    "test_std2 = np.std(test_scores2, axis=1)\n",
    "plt.plot(param_range2, train_mean2, label=\"Training score\", color=\"blue\")\n",
    "plt.plot(param_range2, test_mean2, label=\"Validation score\", color=\"red\")\n",
    "plt.title(\"Validation Curve With Random Forest\")\n",
    "plt.xlabel(\"Number Of Trees\")\n",
    "plt.ylabel(\"Accuracy Score\")\n",
    "plt.tight_layout()\n",
    "plt.legend(loc=\"best\")\n",
    "plt.show()\n",
    "\n",
    "param_range3 = np.arange(1, 300, 2)\n",
    "train_scores3, test_scores3 = validation_curve(rf3,X = xtrain_tfidf, y = train_y,param_name = 'n_estimators',\n",
    "                                                 param_range=param_range3, cv = 5,scoring=\"accuracy\", \n",
    "                                             n_jobs=-1)\n",
    "train_mean3 = np.mean(train_scores3, axis=1)\n",
    "train_std3 = np.std(train_scores3, axis=1)\n",
    "test_mean3 = np.mean(test_scores3, axis=1)\n",
    "test_std3 = np.std(test_scores3, axis=1)\n",
    "plt.plot(param_range3, train_mean3, label=\"Training score\", color=\"blue\")\n",
    "plt.plot(param_range3, test_mean3, label=\"Validation score\", color=\"red\")\n",
    "plt.title(\"Validation Curve With Random Forest\")\n",
    "plt.xlabel(\"Number Of Trees\")\n",
    "plt.ylabel(\"Accuracy Score\")\n",
    "plt.tight_layout()\n",
    "plt.legend(loc=\"best\")\n",
    "plt.show()\n",
    "\n",
    "\n",
    "\n"
   ]
  },
  {
   "cell_type": "code",
   "execution_count": 72,
   "metadata": {},
   "outputs": [
    {
     "name": "stdout",
     "output_type": "stream",
     "text": [
      "Xgb, Count Vectors:  0.9530201342281879\n",
      "Xgb, WordLevel TF-IDF:  0.9496644295302014\n",
      "Xgb, WordLevel TF-IDF:  0.9395973154362416\n",
      "Xgb, WordLevel TF-IDF:  0.9328859060402684\n",
      "Xgb, WordLevel TF-IDF:  0.9362416107382551\n",
      "Xgb, WordLevel TF-IDF:  0.9496644295302014\n",
      "Xgb, WordLevel TF-IDF:  0.8859060402684564\n",
      "Xgb, CharLevel Vectors:  0.9261744966442953\n"
     ]
    }
   ],
   "source": [
    "\n",
    "accuracy = train_model(XGBClassifier(learning_rate = 0.1), xtrain_count.tocsc(), train_y, xvalid_count.tocsc())\n",
    "print(\"Xgb, Count Vectors: \", accuracy)\n",
    "\n",
    "\n",
    "xgb_accuracy = train_model(XGBClassifier(), xtrain_tfidf.tocsc(), train_y, xvalid_tfidf.tocsc())\n",
    "print(\"Xgb, WordLevel TF-IDF: \", xgb_accuracy)\n",
    "xgb_accuracy1 = train_model(XGBClassifier(learning_rate = 1), xtrain_tfidf.tocsc(), train_y, xvalid_tfidf.tocsc())\n",
    "print(\"Xgb, WordLevel TF-IDF: \", xgb_accuracy1)\n",
    "xgb_accuracy2 = train_model(XGBClassifier(learning_rate = 0.8), xtrain_tfidf.tocsc(), train_y, xvalid_tfidf.tocsc())\n",
    "print(\"Xgb, WordLevel TF-IDF: \", xgb_accuracy2)\n",
    "xgb_accuracy3 = train_model(XGBClassifier(learning_rate = 0.5), xtrain_tfidf.tocsc(), train_y, xvalid_tfidf.tocsc())\n",
    "print(\"Xgb, WordLevel TF-IDF: \", xgb_accuracy3)\n",
    "xgb_accuracy4 = train_model(XGBClassifier(learning_rate = 0.3), xtrain_tfidf.tocsc(), train_y, xvalid_tfidf.tocsc())\n",
    "print(\"Xgb, WordLevel TF-IDF: \", xgb_accuracy4)\n",
    "xgb_accuracy5 = train_model(XGBClassifier(learning_rate = 0.01), xtrain_tfidf.tocsc(), train_y, xvalid_tfidf.tocsc())\n",
    "print(\"Xgb, WordLevel TF-IDF: \", xgb_accuracy5)\n",
    "\n",
    "\n",
    "accuracy = train_model(XGBClassifier(learning_rate=0.1), xtrain_tfidf_ngram_chars.tocsc(), train_y, xvalid_tfidf_ngram_chars.tocsc())\n",
    "print(\"Xgb, CharLevel Vectors: \", accuracy)"
   ]
  },
  {
   "cell_type": "code",
   "execution_count": 116,
   "metadata": {},
   "outputs": [
    {
     "name": "stdout",
     "output_type": "stream",
     "text": [
      "Scores: [0.92887029 0.93305439 0.91176471 0.93697479 0.92857143]\n",
      "Mean: 0.9278471221124434\n",
      "Standard Deviation: 0.008609826977207474\n",
      "Scores: [0.91213389 0.93305439 0.92016807 0.92857143 0.92857143]\n",
      "Mean: 0.9244998417777154\n",
      "Standard Deviation: 0.007456768656683628\n",
      "Scores: [0.92887029 0.93305439 0.91176471 0.94117647 0.92857143]\n",
      "Mean: 0.9286874582468971\n",
      "Standard Deviation: 0.009606997346211043\n",
      "Scores: [0.88284519 0.88284519 0.8907563  0.87815126 0.8907563 ]\n",
      "Mean: 0.8850708484230513\n",
      "Standard Deviation: 0.0049484664224616086\n"
     ]
    }
   ],
   "source": [
    "xgb_scores1 = cross_val_score(XGBClassifier(),xtrain_tfidf, train_y, scoring = 'accuracy', \n",
    "                             cv=5)\n",
    "xgb_scores2 = cross_val_score(XGBClassifier(learning_rate=1),xtrain_tfidf, train_y, scoring = 'accuracy', \n",
    "                             cv=5)\n",
    "xgb_scores3 = cross_val_score(XGBClassifier(learning_rate=0.1),xtrain_tfidf, train_y, scoring = 'accuracy', \n",
    "                             cv=5)\n",
    "xgb_scores4 = cross_val_score(XGBClassifier(learning_rate=0.01),xtrain_tfidf, train_y, scoring = 'accuracy', \n",
    "                             cv=5)\n",
    "display_scores(xgb_scores1)\n",
    "display_scores(xgb_scores2)\n",
    "display_scores(xgb_scores3)\n",
    "display_scores(xgb_scores4)"
   ]
  },
  {
   "cell_type": "code",
   "execution_count": null,
   "metadata": {},
   "outputs": [],
   "source": [
    "plt.plot(xgb_scores, label='XGB1',color=\"blue\")\n",
    "plt.plot(xgb_scores2, label='XGB2', color=\"red\")\n",
    "plt.plot(xgb_scores3, label ='XGB3',color=\"green\")\n",
    "plt.plot(xgb_scores4, label = 'XGB3', color='black')\n",
    "plt.title(\"Validation Curve With XGBoost\")\n",
    "plt.ylabel(\"Accuracy Score\")\n",
    "plt.xlabel('Folds')\n",
    "plt.tight_layout()\n",
    "plt.legend(loc=\"best\")\n",
    "plt.show()"
   ]
  },
  {
   "cell_type": "code",
   "execution_count": 117,
   "metadata": {},
   "outputs": [
    {
     "data": {
      "text/plain": [
       "RandomForestClassifier(min_samples_leaf=2, n_estimators=300)"
      ]
     },
     "execution_count": 117,
     "metadata": {},
     "output_type": "execute_result"
    }
   ],
   "source": [
    "rf3.fit(xtrain_tfidf, train_y)"
   ]
  },
  {
   "cell_type": "code",
   "execution_count": 118,
   "metadata": {},
   "outputs": [
    {
     "data": {
      "text/plain": [
       "array([3, 4, 3, 0, 3, 3, 2, 2, 1, 0, 0, 4, 2, 4, 1, 3, 2, 4, 1, 1, 0, 2,\n",
       "       3, 0, 2, 3, 0, 3, 3, 0, 2, 4, 0, 0, 3, 3, 3, 0, 1, 0, 4, 2, 1, 4,\n",
       "       3, 4, 1, 0, 2, 0, 2, 0, 0, 0, 4, 2, 4, 1, 3, 4, 3, 1, 4, 2, 0, 1,\n",
       "       3, 4, 3, 3, 0, 3, 0, 2, 4, 3, 4, 4, 4, 1, 2, 3, 1, 3, 4, 1, 0, 1,\n",
       "       0, 4, 0, 2, 3, 4, 3, 3, 3, 3, 3, 3, 2, 3, 0, 1, 0, 3, 2, 3, 2, 1,\n",
       "       3, 0, 1, 3, 2, 3, 2, 3, 2, 0, 1, 0, 1, 1, 4, 3, 0, 1, 0, 1, 0, 2,\n",
       "       2, 4, 0, 0, 2, 4, 1, 3, 0, 4, 3, 1, 2, 3, 3, 1, 1, 4, 0, 4, 2, 1,\n",
       "       3, 3, 3, 3, 1, 4, 0, 4, 0, 4, 0, 4, 1, 4, 4, 2, 0, 2, 0, 0, 1, 2,\n",
       "       4, 0, 0, 4, 3, 2, 3, 2, 0, 4, 2, 0, 2, 1, 2, 0, 1, 3, 4, 4, 0, 4,\n",
       "       2, 0, 3, 2, 0, 1, 0, 0, 3, 4, 0, 3, 1, 1, 3, 1, 3, 4, 2, 1, 3, 1,\n",
       "       3, 1, 2, 0, 4, 2, 0, 2, 0, 4, 0, 3, 2, 2, 0, 2, 3, 0, 1, 2, 3, 2,\n",
       "       0, 3, 4, 0, 2, 0, 2, 0, 0, 3, 4, 2, 1, 4, 1, 4, 3, 3, 4, 3, 3, 3,\n",
       "       1, 3, 2, 4, 0, 3, 0, 3, 0, 3, 1, 0, 0, 1, 2, 0, 3, 3, 4, 3, 3, 1,\n",
       "       0, 3, 4, 2, 1, 0, 0, 2, 3, 1, 0, 0, 3, 3, 4, 1, 3, 0, 4, 0, 3, 2,\n",
       "       0, 1, 2, 1, 2, 0, 2, 4, 0, 3, 4, 1, 2, 3, 2, 2, 4, 2, 3, 4, 2, 4,\n",
       "       4, 1, 3, 4, 2, 0, 2, 3, 4, 1, 1, 0, 3, 4, 4, 1, 4, 0, 3, 1, 4, 0,\n",
       "       2, 4, 4, 2, 2, 3, 0, 4, 3, 2, 2, 0, 4, 3, 2, 0, 2, 2, 4, 1, 0, 0,\n",
       "       3, 3, 3, 4, 4, 0, 4, 4, 2, 0, 3, 3, 1, 1, 3, 4, 4, 3, 4, 1, 3, 4,\n",
       "       3, 0, 2, 1, 0, 4, 3, 2, 0, 0, 2, 4, 3, 1, 0, 4, 0, 4, 3, 3, 2, 0,\n",
       "       4, 3, 2, 0, 0, 4, 2, 4, 0, 2, 0, 1, 0, 1, 2, 1, 3, 0, 2, 0, 3, 1,\n",
       "       0, 1, 1, 3, 4, 1, 0, 0, 2, 1, 2, 2, 3, 0, 3, 2, 1, 1, 0, 0, 3, 2,\n",
       "       4, 0, 2, 0, 3, 3, 2, 3, 4, 0, 2, 3, 2, 4, 0, 2, 4, 2, 2, 1, 4, 3,\n",
       "       3, 2, 0, 4, 2, 3, 3, 1, 0, 1, 1, 0, 2, 3, 0, 4, 4, 0, 2, 3, 0, 3,\n",
       "       0, 2, 0, 3, 2, 4, 3, 2, 0, 4, 2, 3, 4, 1, 3, 2, 0, 0, 0, 4, 2, 2,\n",
       "       3, 0, 4, 4, 4, 3, 4, 2, 0, 0, 3, 0, 2, 0, 4, 4, 3, 4, 0, 3, 0, 0,\n",
       "       0, 2, 2, 1, 1, 1, 2, 4, 4, 2, 1, 0, 3, 3, 2, 1, 2, 3, 0, 0, 0, 1,\n",
       "       4, 3, 0, 2, 2, 4, 2, 3, 2, 0, 4, 0, 3, 3, 4, 3, 1, 4, 1, 4, 3, 2,\n",
       "       0, 4, 2, 1, 1, 2, 0, 0, 4, 0, 0, 0, 3, 1, 0, 3, 0, 3, 4, 0, 2, 3,\n",
       "       0, 3, 3, 1, 2, 4, 3, 0, 3, 0, 3, 3, 2, 4, 0, 4, 0, 3, 4, 0, 1, 0,\n",
       "       1, 3, 4, 3, 0, 0, 2, 3, 1, 4, 0, 3, 1, 0, 1, 0, 2, 3, 3, 0, 4, 3,\n",
       "       0, 0, 0, 0, 0, 1, 4, 3, 2, 4, 2, 4, 3, 4, 1, 0, 0, 1, 2, 3, 3, 3,\n",
       "       1, 0, 2, 1, 3, 3, 2, 4, 2, 1, 3, 1, 3, 4, 4, 3, 0, 0, 4, 1, 0, 4,\n",
       "       0, 0, 3, 1, 2, 1, 0, 2, 0, 2, 3, 4, 4, 2, 1, 0, 4, 1, 1, 2, 0, 0,\n",
       "       2, 2, 4, 3, 0, 1, 2, 0, 2])"
      ]
     },
     "execution_count": 118,
     "metadata": {},
     "output_type": "execute_result"
    }
   ],
   "source": [
    "predictions = rf3.predict(testing_tfidf)\n",
    "predictions"
   ]
  },
  {
   "cell_type": "code",
   "execution_count": 119,
   "metadata": {},
   "outputs": [],
   "source": [
    "predictions_test = encoder.inverse_transform(predictions)"
   ]
  },
  {
   "cell_type": "code",
   "execution_count": 120,
   "metadata": {},
   "outputs": [
    {
     "data": {
      "text/plain": [
       "array(['sport', 'tech', 'sport', 'business', 'sport', 'sport', 'politics',\n",
       "       'politics', 'entertainment', 'business', 'business', 'tech',\n",
       "       'politics', 'tech', 'entertainment', 'sport', 'politics', 'tech',\n",
       "       'entertainment', 'entertainment', 'business', 'politics', 'sport',\n",
       "       'business', 'politics', 'sport', 'business', 'sport', 'sport',\n",
       "       'business', 'politics', 'tech', 'business', 'business', 'sport',\n",
       "       'sport', 'sport', 'business', 'entertainment', 'business', 'tech',\n",
       "       'politics', 'entertainment', 'tech', 'sport', 'tech',\n",
       "       'entertainment', 'business', 'politics', 'business', 'politics',\n",
       "       'business', 'business', 'business', 'tech', 'politics', 'tech',\n",
       "       'entertainment', 'sport', 'tech', 'sport', 'entertainment', 'tech',\n",
       "       'politics', 'business', 'entertainment', 'sport', 'tech', 'sport',\n",
       "       'sport', 'business', 'sport', 'business', 'politics', 'tech',\n",
       "       'sport', 'tech', 'tech', 'tech', 'entertainment', 'politics',\n",
       "       'sport', 'entertainment', 'sport', 'tech', 'entertainment',\n",
       "       'business', 'entertainment', 'business', 'tech', 'business',\n",
       "       'politics', 'sport', 'tech', 'sport', 'sport', 'sport', 'sport',\n",
       "       'sport', 'sport', 'politics', 'sport', 'business', 'entertainment',\n",
       "       'business', 'sport', 'politics', 'sport', 'politics',\n",
       "       'entertainment', 'sport', 'business', 'entertainment', 'sport',\n",
       "       'politics', 'sport', 'politics', 'sport', 'politics', 'business',\n",
       "       'entertainment', 'business', 'entertainment', 'entertainment',\n",
       "       'tech', 'sport', 'business', 'entertainment', 'business',\n",
       "       'entertainment', 'business', 'politics', 'politics', 'tech',\n",
       "       'business', 'business', 'politics', 'tech', 'entertainment',\n",
       "       'sport', 'business', 'tech', 'sport', 'entertainment', 'politics',\n",
       "       'sport', 'sport', 'entertainment', 'entertainment', 'tech',\n",
       "       'business', 'tech', 'politics', 'entertainment', 'sport', 'sport',\n",
       "       'sport', 'sport', 'entertainment', 'tech', 'business', 'tech',\n",
       "       'business', 'tech', 'business', 'tech', 'entertainment', 'tech',\n",
       "       'tech', 'politics', 'business', 'politics', 'business', 'business',\n",
       "       'entertainment', 'politics', 'tech', 'business', 'business',\n",
       "       'tech', 'sport', 'politics', 'sport', 'politics', 'business',\n",
       "       'tech', 'politics', 'business', 'politics', 'entertainment',\n",
       "       'politics', 'business', 'entertainment', 'sport', 'tech', 'tech',\n",
       "       'business', 'tech', 'politics', 'business', 'sport', 'politics',\n",
       "       'business', 'entertainment', 'business', 'business', 'sport',\n",
       "       'tech', 'business', 'sport', 'entertainment', 'entertainment',\n",
       "       'sport', 'entertainment', 'sport', 'tech', 'politics',\n",
       "       'entertainment', 'sport', 'entertainment', 'sport',\n",
       "       'entertainment', 'politics', 'business', 'tech', 'politics',\n",
       "       'business', 'politics', 'business', 'tech', 'business', 'sport',\n",
       "       'politics', 'politics', 'business', 'politics', 'sport',\n",
       "       'business', 'entertainment', 'politics', 'sport', 'politics',\n",
       "       'business', 'sport', 'tech', 'business', 'politics', 'business',\n",
       "       'politics', 'business', 'business', 'sport', 'tech', 'politics',\n",
       "       'entertainment', 'tech', 'entertainment', 'tech', 'sport', 'sport',\n",
       "       'tech', 'sport', 'sport', 'sport', 'entertainment', 'sport',\n",
       "       'politics', 'tech', 'business', 'sport', 'business', 'sport',\n",
       "       'business', 'sport', 'entertainment', 'business', 'business',\n",
       "       'entertainment', 'politics', 'business', 'sport', 'sport', 'tech',\n",
       "       'sport', 'sport', 'entertainment', 'business', 'sport', 'tech',\n",
       "       'politics', 'entertainment', 'business', 'business', 'politics',\n",
       "       'sport', 'entertainment', 'business', 'business', 'sport', 'sport',\n",
       "       'tech', 'entertainment', 'sport', 'business', 'tech', 'business',\n",
       "       'sport', 'politics', 'business', 'entertainment', 'politics',\n",
       "       'entertainment', 'politics', 'business', 'politics', 'tech',\n",
       "       'business', 'sport', 'tech', 'entertainment', 'politics', 'sport',\n",
       "       'politics', 'politics', 'tech', 'politics', 'sport', 'tech',\n",
       "       'politics', 'tech', 'tech', 'entertainment', 'sport', 'tech',\n",
       "       'politics', 'business', 'politics', 'sport', 'tech',\n",
       "       'entertainment', 'entertainment', 'business', 'sport', 'tech',\n",
       "       'tech', 'entertainment', 'tech', 'business', 'sport',\n",
       "       'entertainment', 'tech', 'business', 'politics', 'tech', 'tech',\n",
       "       'politics', 'politics', 'sport', 'business', 'tech', 'sport',\n",
       "       'politics', 'politics', 'business', 'tech', 'sport', 'politics',\n",
       "       'business', 'politics', 'politics', 'tech', 'entertainment',\n",
       "       'business', 'business', 'sport', 'sport', 'sport', 'tech', 'tech',\n",
       "       'business', 'tech', 'tech', 'politics', 'business', 'sport',\n",
       "       'sport', 'entertainment', 'entertainment', 'sport', 'tech', 'tech',\n",
       "       'sport', 'tech', 'entertainment', 'sport', 'tech', 'sport',\n",
       "       'business', 'politics', 'entertainment', 'business', 'tech',\n",
       "       'sport', 'politics', 'business', 'business', 'politics', 'tech',\n",
       "       'sport', 'entertainment', 'business', 'tech', 'business', 'tech',\n",
       "       'sport', 'sport', 'politics', 'business', 'tech', 'sport',\n",
       "       'politics', 'business', 'business', 'tech', 'politics', 'tech',\n",
       "       'business', 'politics', 'business', 'entertainment', 'business',\n",
       "       'entertainment', 'politics', 'entertainment', 'sport', 'business',\n",
       "       'politics', 'business', 'sport', 'entertainment', 'business',\n",
       "       'entertainment', 'entertainment', 'sport', 'tech', 'entertainment',\n",
       "       'business', 'business', 'politics', 'entertainment', 'politics',\n",
       "       'politics', 'sport', 'business', 'sport', 'politics',\n",
       "       'entertainment', 'entertainment', 'business', 'business', 'sport',\n",
       "       'politics', 'tech', 'business', 'politics', 'business', 'sport',\n",
       "       'sport', 'politics', 'sport', 'tech', 'business', 'politics',\n",
       "       'sport', 'politics', 'tech', 'business', 'politics', 'tech',\n",
       "       'politics', 'politics', 'entertainment', 'tech', 'sport', 'sport',\n",
       "       'politics', 'business', 'tech', 'politics', 'sport', 'sport',\n",
       "       'entertainment', 'business', 'entertainment', 'entertainment',\n",
       "       'business', 'politics', 'sport', 'business', 'tech', 'tech',\n",
       "       'business', 'politics', 'sport', 'business', 'sport', 'business',\n",
       "       'politics', 'business', 'sport', 'politics', 'tech', 'sport',\n",
       "       'politics', 'business', 'tech', 'politics', 'sport', 'tech',\n",
       "       'entertainment', 'sport', 'politics', 'business', 'business',\n",
       "       'business', 'tech', 'politics', 'politics', 'sport', 'business',\n",
       "       'tech', 'tech', 'tech', 'sport', 'tech', 'politics', 'business',\n",
       "       'business', 'sport', 'business', 'politics', 'business', 'tech',\n",
       "       'tech', 'sport', 'tech', 'business', 'sport', 'business',\n",
       "       'business', 'business', 'politics', 'politics', 'entertainment',\n",
       "       'entertainment', 'entertainment', 'politics', 'tech', 'tech',\n",
       "       'politics', 'entertainment', 'business', 'sport', 'sport',\n",
       "       'politics', 'entertainment', 'politics', 'sport', 'business',\n",
       "       'business', 'business', 'entertainment', 'tech', 'sport',\n",
       "       'business', 'politics', 'politics', 'tech', 'politics', 'sport',\n",
       "       'politics', 'business', 'tech', 'business', 'sport', 'sport',\n",
       "       'tech', 'sport', 'entertainment', 'tech', 'entertainment', 'tech',\n",
       "       'sport', 'politics', 'business', 'tech', 'politics',\n",
       "       'entertainment', 'entertainment', 'politics', 'business',\n",
       "       'business', 'tech', 'business', 'business', 'business', 'sport',\n",
       "       'entertainment', 'business', 'sport', 'business', 'sport', 'tech',\n",
       "       'business', 'politics', 'sport', 'business', 'sport', 'sport',\n",
       "       'entertainment', 'politics', 'tech', 'sport', 'business', 'sport',\n",
       "       'business', 'sport', 'sport', 'politics', 'tech', 'business',\n",
       "       'tech', 'business', 'sport', 'tech', 'business', 'entertainment',\n",
       "       'business', 'entertainment', 'sport', 'tech', 'sport', 'business',\n",
       "       'business', 'politics', 'sport', 'entertainment', 'tech',\n",
       "       'business', 'sport', 'entertainment', 'business', 'entertainment',\n",
       "       'business', 'politics', 'sport', 'sport', 'business', 'tech',\n",
       "       'sport', 'business', 'business', 'business', 'business',\n",
       "       'business', 'entertainment', 'tech', 'sport', 'politics', 'tech',\n",
       "       'politics', 'tech', 'sport', 'tech', 'entertainment', 'business',\n",
       "       'business', 'entertainment', 'politics', 'sport', 'sport', 'sport',\n",
       "       'entertainment', 'business', 'politics', 'entertainment', 'sport',\n",
       "       'sport', 'politics', 'tech', 'politics', 'entertainment', 'sport',\n",
       "       'entertainment', 'sport', 'tech', 'tech', 'sport', 'business',\n",
       "       'business', 'tech', 'entertainment', 'business', 'tech',\n",
       "       'business', 'business', 'sport', 'entertainment', 'politics',\n",
       "       'entertainment', 'business', 'politics', 'business', 'politics',\n",
       "       'sport', 'tech', 'tech', 'politics', 'entertainment', 'business',\n",
       "       'tech', 'entertainment', 'entertainment', 'politics', 'business',\n",
       "       'business', 'politics', 'politics', 'tech', 'sport', 'business',\n",
       "       'entertainment', 'politics', 'business', 'politics'], dtype=object)"
      ]
     },
     "execution_count": 120,
     "metadata": {},
     "output_type": "execute_result"
    }
   ],
   "source": [
    "predictions_test"
   ]
  },
  {
   "cell_type": "code",
   "execution_count": 121,
   "metadata": {},
   "outputs": [
    {
     "name": "stdout",
     "output_type": "stream",
     "text": [
      "<class 'pandas.core.frame.DataFrame'>\n",
      "RangeIndex: 735 entries, 0 to 734\n",
      "Data columns (total 2 columns):\n",
      " #   Column       Non-Null Count  Dtype \n",
      "---  ------       --------------  ----- \n",
      " 0   articleid    735 non-null    int64 \n",
      " 1   predictions  735 non-null    object\n",
      "dtypes: int64(1), object(1)\n",
      "memory usage: 11.6+ KB\n"
     ]
    }
   ],
   "source": [
    "labels = pd.DataFrame({\n",
    "    'articleid':news_test['ArticleId'],\n",
    "    'predictions':predictions_test})\n",
    "labels.info()"
   ]
  },
  {
   "cell_type": "code",
   "execution_count": 122,
   "metadata": {},
   "outputs": [
    {
     "data": {
      "text/html": [
       "<div>\n",
       "<style scoped>\n",
       "    .dataframe tbody tr th:only-of-type {\n",
       "        vertical-align: middle;\n",
       "    }\n",
       "\n",
       "    .dataframe tbody tr th {\n",
       "        vertical-align: top;\n",
       "    }\n",
       "\n",
       "    .dataframe thead th {\n",
       "        text-align: right;\n",
       "    }\n",
       "</style>\n",
       "<table border=\"1\" class=\"dataframe\">\n",
       "  <thead>\n",
       "    <tr style=\"text-align: right;\">\n",
       "      <th></th>\n",
       "      <th>articleid</th>\n",
       "      <th>predictions</th>\n",
       "    </tr>\n",
       "  </thead>\n",
       "  <tbody>\n",
       "    <tr>\n",
       "      <th>0</th>\n",
       "      <td>1018,sport</td>\n",
       "      <td>sport</td>\n",
       "    </tr>\n",
       "    <tr>\n",
       "      <th>1</th>\n",
       "      <td>1319,tech</td>\n",
       "      <td>tech</td>\n",
       "    </tr>\n",
       "    <tr>\n",
       "      <th>2</th>\n",
       "      <td>1138,sport</td>\n",
       "      <td>sport</td>\n",
       "    </tr>\n",
       "    <tr>\n",
       "      <th>3</th>\n",
       "      <td>459,business</td>\n",
       "      <td>business</td>\n",
       "    </tr>\n",
       "    <tr>\n",
       "      <th>4</th>\n",
       "      <td>1020,sport</td>\n",
       "      <td>sport</td>\n",
       "    </tr>\n",
       "    <tr>\n",
       "      <th>...</th>\n",
       "      <td>...</td>\n",
       "      <td>...</td>\n",
       "    </tr>\n",
       "    <tr>\n",
       "      <th>730</th>\n",
       "      <td>1923,business</td>\n",
       "      <td>business</td>\n",
       "    </tr>\n",
       "    <tr>\n",
       "      <th>731</th>\n",
       "      <td>373,entertainment</td>\n",
       "      <td>entertainment</td>\n",
       "    </tr>\n",
       "    <tr>\n",
       "      <th>732</th>\n",
       "      <td>1704,politics</td>\n",
       "      <td>politics</td>\n",
       "    </tr>\n",
       "    <tr>\n",
       "      <th>733</th>\n",
       "      <td>206,business</td>\n",
       "      <td>business</td>\n",
       "    </tr>\n",
       "    <tr>\n",
       "      <th>734</th>\n",
       "      <td>471,politics</td>\n",
       "      <td>politics</td>\n",
       "    </tr>\n",
       "  </tbody>\n",
       "</table>\n",
       "<p>735 rows × 2 columns</p>\n",
       "</div>"
      ],
      "text/plain": [
       "             articleid    predictions\n",
       "0           1018,sport          sport\n",
       "1            1319,tech           tech\n",
       "2           1138,sport          sport\n",
       "3         459,business       business\n",
       "4           1020,sport          sport\n",
       "..                 ...            ...\n",
       "730      1923,business       business\n",
       "731  373,entertainment  entertainment\n",
       "732      1704,politics       politics\n",
       "733       206,business       business\n",
       "734       471,politics       politics\n",
       "\n",
       "[735 rows x 2 columns]"
      ]
     },
     "execution_count": 122,
     "metadata": {},
     "output_type": "execute_result"
    }
   ],
   "source": [
    "preds = labels['predictions'].copy() \n",
    "labels = labels.astype(str)\n",
    "labels['articleid'] = labels['articleid'].str.cat(preds, sep=\",\")\n",
    "labels"
   ]
  },
  {
   "cell_type": "code",
   "execution_count": 123,
   "metadata": {},
   "outputs": [
    {
     "data": {
      "text/plain": [
       "0             1018,sport\n",
       "1              1319,tech\n",
       "2             1138,sport\n",
       "3           459,business\n",
       "4             1020,sport\n",
       "             ...        \n",
       "730        1923,business\n",
       "731    373,entertainment\n",
       "732        1704,politics\n",
       "733         206,business\n",
       "734         471,politics\n",
       "Name: articleid, Length: 735, dtype: object"
      ]
     },
     "execution_count": 123,
     "metadata": {},
     "output_type": "execute_result"
    }
   ],
   "source": [
    "label_results = labels['articleid']\n",
    "label_results"
   ]
  },
  {
   "cell_type": "code",
   "execution_count": 124,
   "metadata": {},
   "outputs": [],
   "source": [
    "label_results.to_csv(r'label_results.csv',header=False, index=False)"
   ]
  },
  {
   "cell_type": "code",
   "execution_count": null,
   "metadata": {},
   "outputs": [],
   "source": []
  }
 ],
 "metadata": {
  "kernelspec": {
   "display_name": "Python 3",
   "language": "python",
   "name": "python3"
  },
  "language_info": {
   "codemirror_mode": {
    "name": "ipython",
    "version": 3
   },
   "file_extension": ".py",
   "mimetype": "text/x-python",
   "name": "python",
   "nbconvert_exporter": "python",
   "pygments_lexer": "ipython3",
   "version": "3.8.5"
  }
 },
 "nbformat": 4,
 "nbformat_minor": 4
}
